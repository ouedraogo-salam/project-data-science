{
 "cells": [
  {
   "cell_type": "markdown",
   "id": "7f529a69",
   "metadata": {},
   "source": [
    "=========================================================================================================================\n",
    "# <span><center style=\"text-decoration:underline\">BIKE SHARING DATA ANALYSIS</center></span>\n",
    "\n",
    "### AUTHOR : OUEDRAOGO Salam  \n",
    "### CREATED : 15/07/2023  \n",
    "### LAST MODIFIED : 24/07/2023\n",
    "\n",
    "=========================================================================================================================\n",
    "\n",
    "\n",
    "## <span><center style=\"text-decoration:underline\">INTRODUCTION</center></span>\n",
    "This notebook is about analysing data from bike sharing services and how to identify usage patterns depending on times features and weather conditions. For more detais, It about visual analysis, hypothesis testing, and time series analysis.  \n",
    "\n",
    "Understanding the driving factors of bike sharing requests is essential for both compagnies and users.\n",
    "From compagnies perspective, identifying the expected bike demand in a specific area, within a specific time frame : \n",
    "1. can significantly increase the compagnie's revenue and customer satisfaction,\n",
    "2. allow the optimization to futher reduce operational costs \n",
    "\n",
    "The bike sharing data is from Capital Bikeshare in Washington, D.C., USA, for the period between January 1, 2011, and December 31,2012. The original dataset is available at https://archive.ics.uci.edu/ml/datasets/Bike+Sharing+Dataset#.\n",
    "\n",
    "## <span><center style=\"text-decoration:underline\">DATA EXPLORATION</center></span>"
   ]
  },
  {
   "cell_type": "markdown",
   "id": "2e02be83",
   "metadata": {},
   "source": [
    "### <span><center style=\"text-decoration:underline\">INDERSTANDING DATA</center></span>"
   ]
  },
  {
   "cell_type": "code",
   "execution_count": 1,
   "id": "6ef40207",
   "metadata": {},
   "outputs": [],
   "source": [
    "# Imports of necessaries librairies\n",
    "\n",
    "import numpy as np\n",
    "import pandas as pd\n",
    "import matplotlib.pyplot as plt\n",
    "import seaborn as sns\n",
    "\n",
    "%matplotlib inline"
   ]
  },
  {
   "cell_type": "code",
   "execution_count": 2,
   "id": "1d5dd480",
   "metadata": {},
   "outputs": [],
   "source": [
    "# Bike sharing data loading\n",
    "try:\n",
    "    hourly_data = pd.read_csv('bike_sharing_service.csv')\n",
    "except FileNotFoundError:\n",
    "    data_link = 'https://raw.githubusercontent.com/PacktWorkshops/'\\\n",
    "                'The-Data-Analysis-Workshop/master/Chapter01/data/hour.csv'\n",
    "\n",
    "    hourly_data = pd.read_csv(data_link)\n",
    "    hourly_data.to_csv('bike_sharing_service.csv',index=False, sep=\",\")"
   ]
  },
  {
   "cell_type": "code",
   "execution_count": 3,
   "id": "ca798dc2",
   "metadata": {},
   "outputs": [
    {
     "name": "stdout",
     "output_type": "stream",
     "text": [
      "(17379, 17)\n"
     ]
    }
   ],
   "source": [
    "# Printing the data's dimensions\n",
    "print(hourly_data.shape)"
   ]
  },
  {
   "cell_type": "code",
   "execution_count": 4,
   "id": "01e01563",
   "metadata": {},
   "outputs": [
    {
     "data": {
      "text/plain": [
       "instant       0\n",
       "dteday        0\n",
       "season        0\n",
       "yr            0\n",
       "mnth          0\n",
       "hr            0\n",
       "holiday       0\n",
       "weekday       0\n",
       "workingday    0\n",
       "weathersit    0\n",
       "temp          0\n",
       "atemp         0\n",
       "hum           0\n",
       "windspeed     0\n",
       "casual        0\n",
       "registered    0\n",
       "cnt           0\n",
       "dtype: int64"
      ]
     },
     "execution_count": 4,
     "metadata": {},
     "output_type": "execute_result"
    }
   ],
   "source": [
    "# Getting the numbers of missing values\n",
    "hourly_data.isna().sum()"
   ]
  },
  {
   "cell_type": "code",
   "execution_count": 5,
   "id": "9214de9a",
   "metadata": {},
   "outputs": [
    {
     "name": "stdout",
     "output_type": "stream",
     "text": [
      "<class 'pandas.core.frame.DataFrame'>\n",
      "RangeIndex: 17379 entries, 0 to 17378\n",
      "Data columns (total 17 columns):\n",
      " #   Column      Non-Null Count  Dtype  \n",
      "---  ------      --------------  -----  \n",
      " 0   instant     17379 non-null  int64  \n",
      " 1   dteday      17379 non-null  object \n",
      " 2   season      17379 non-null  int64  \n",
      " 3   yr          17379 non-null  int64  \n",
      " 4   mnth        17379 non-null  int64  \n",
      " 5   hr          17379 non-null  int64  \n",
      " 6   holiday     17379 non-null  int64  \n",
      " 7   weekday     17379 non-null  int64  \n",
      " 8   workingday  17379 non-null  int64  \n",
      " 9   weathersit  17379 non-null  int64  \n",
      " 10  temp        17379 non-null  float64\n",
      " 11  atemp       17379 non-null  float64\n",
      " 12  hum         17379 non-null  float64\n",
      " 13  windspeed   17379 non-null  float64\n",
      " 14  casual      17379 non-null  int64  \n",
      " 15  registered  17379 non-null  int64  \n",
      " 16  cnt         17379 non-null  int64  \n",
      "dtypes: float64(4), int64(12), object(1)\n",
      "memory usage: 2.3+ MB\n"
     ]
    }
   ],
   "source": [
    "# Pritting the informations about the datasets, \n",
    "# Number of column, Non-Null values and Dtypes\n",
    "hourly_data.info()"
   ]
  },
  {
   "cell_type": "code",
   "execution_count": 6,
   "id": "754e7bac",
   "metadata": {},
   "outputs": [
    {
     "data": {
      "text/html": [
       "<div>\n",
       "<style scoped>\n",
       "    .dataframe tbody tr th:only-of-type {\n",
       "        vertical-align: middle;\n",
       "    }\n",
       "\n",
       "    .dataframe tbody tr th {\n",
       "        vertical-align: top;\n",
       "    }\n",
       "\n",
       "    .dataframe thead th {\n",
       "        text-align: right;\n",
       "    }\n",
       "</style>\n",
       "<table border=\"1\" class=\"dataframe\">\n",
       "  <thead>\n",
       "    <tr style=\"text-align: right;\">\n",
       "      <th></th>\n",
       "      <th>count</th>\n",
       "      <th>mean</th>\n",
       "      <th>std</th>\n",
       "      <th>min</th>\n",
       "      <th>25%</th>\n",
       "      <th>50%</th>\n",
       "      <th>75%</th>\n",
       "      <th>max</th>\n",
       "    </tr>\n",
       "  </thead>\n",
       "  <tbody>\n",
       "    <tr>\n",
       "      <th>instant</th>\n",
       "      <td>17379.0</td>\n",
       "      <td>8690.000000</td>\n",
       "      <td>5017.029500</td>\n",
       "      <td>1.00</td>\n",
       "      <td>4345.5000</td>\n",
       "      <td>8690.0000</td>\n",
       "      <td>13034.5000</td>\n",
       "      <td>17379.0000</td>\n",
       "    </tr>\n",
       "    <tr>\n",
       "      <th>season</th>\n",
       "      <td>17379.0</td>\n",
       "      <td>2.501640</td>\n",
       "      <td>1.106918</td>\n",
       "      <td>1.00</td>\n",
       "      <td>2.0000</td>\n",
       "      <td>3.0000</td>\n",
       "      <td>3.0000</td>\n",
       "      <td>4.0000</td>\n",
       "    </tr>\n",
       "    <tr>\n",
       "      <th>yr</th>\n",
       "      <td>17379.0</td>\n",
       "      <td>0.502561</td>\n",
       "      <td>0.500008</td>\n",
       "      <td>0.00</td>\n",
       "      <td>0.0000</td>\n",
       "      <td>1.0000</td>\n",
       "      <td>1.0000</td>\n",
       "      <td>1.0000</td>\n",
       "    </tr>\n",
       "    <tr>\n",
       "      <th>mnth</th>\n",
       "      <td>17379.0</td>\n",
       "      <td>6.537775</td>\n",
       "      <td>3.438776</td>\n",
       "      <td>1.00</td>\n",
       "      <td>4.0000</td>\n",
       "      <td>7.0000</td>\n",
       "      <td>10.0000</td>\n",
       "      <td>12.0000</td>\n",
       "    </tr>\n",
       "    <tr>\n",
       "      <th>hr</th>\n",
       "      <td>17379.0</td>\n",
       "      <td>11.546752</td>\n",
       "      <td>6.914405</td>\n",
       "      <td>0.00</td>\n",
       "      <td>6.0000</td>\n",
       "      <td>12.0000</td>\n",
       "      <td>18.0000</td>\n",
       "      <td>23.0000</td>\n",
       "    </tr>\n",
       "    <tr>\n",
       "      <th>holiday</th>\n",
       "      <td>17379.0</td>\n",
       "      <td>0.028770</td>\n",
       "      <td>0.167165</td>\n",
       "      <td>0.00</td>\n",
       "      <td>0.0000</td>\n",
       "      <td>0.0000</td>\n",
       "      <td>0.0000</td>\n",
       "      <td>1.0000</td>\n",
       "    </tr>\n",
       "    <tr>\n",
       "      <th>weekday</th>\n",
       "      <td>17379.0</td>\n",
       "      <td>3.003683</td>\n",
       "      <td>2.005771</td>\n",
       "      <td>0.00</td>\n",
       "      <td>1.0000</td>\n",
       "      <td>3.0000</td>\n",
       "      <td>5.0000</td>\n",
       "      <td>6.0000</td>\n",
       "    </tr>\n",
       "    <tr>\n",
       "      <th>workingday</th>\n",
       "      <td>17379.0</td>\n",
       "      <td>0.682721</td>\n",
       "      <td>0.465431</td>\n",
       "      <td>0.00</td>\n",
       "      <td>0.0000</td>\n",
       "      <td>1.0000</td>\n",
       "      <td>1.0000</td>\n",
       "      <td>1.0000</td>\n",
       "    </tr>\n",
       "    <tr>\n",
       "      <th>weathersit</th>\n",
       "      <td>17379.0</td>\n",
       "      <td>1.425283</td>\n",
       "      <td>0.639357</td>\n",
       "      <td>1.00</td>\n",
       "      <td>1.0000</td>\n",
       "      <td>1.0000</td>\n",
       "      <td>2.0000</td>\n",
       "      <td>4.0000</td>\n",
       "    </tr>\n",
       "    <tr>\n",
       "      <th>temp</th>\n",
       "      <td>17379.0</td>\n",
       "      <td>0.496987</td>\n",
       "      <td>0.192556</td>\n",
       "      <td>0.02</td>\n",
       "      <td>0.3400</td>\n",
       "      <td>0.5000</td>\n",
       "      <td>0.6600</td>\n",
       "      <td>1.0000</td>\n",
       "    </tr>\n",
       "    <tr>\n",
       "      <th>atemp</th>\n",
       "      <td>17379.0</td>\n",
       "      <td>0.475775</td>\n",
       "      <td>0.171850</td>\n",
       "      <td>0.00</td>\n",
       "      <td>0.3333</td>\n",
       "      <td>0.4848</td>\n",
       "      <td>0.6212</td>\n",
       "      <td>1.0000</td>\n",
       "    </tr>\n",
       "    <tr>\n",
       "      <th>hum</th>\n",
       "      <td>17379.0</td>\n",
       "      <td>0.627229</td>\n",
       "      <td>0.192930</td>\n",
       "      <td>0.00</td>\n",
       "      <td>0.4800</td>\n",
       "      <td>0.6300</td>\n",
       "      <td>0.7800</td>\n",
       "      <td>1.0000</td>\n",
       "    </tr>\n",
       "    <tr>\n",
       "      <th>windspeed</th>\n",
       "      <td>17379.0</td>\n",
       "      <td>0.190098</td>\n",
       "      <td>0.122340</td>\n",
       "      <td>0.00</td>\n",
       "      <td>0.1045</td>\n",
       "      <td>0.1940</td>\n",
       "      <td>0.2537</td>\n",
       "      <td>0.8507</td>\n",
       "    </tr>\n",
       "    <tr>\n",
       "      <th>casual</th>\n",
       "      <td>17379.0</td>\n",
       "      <td>35.676218</td>\n",
       "      <td>49.305030</td>\n",
       "      <td>0.00</td>\n",
       "      <td>4.0000</td>\n",
       "      <td>17.0000</td>\n",
       "      <td>48.0000</td>\n",
       "      <td>367.0000</td>\n",
       "    </tr>\n",
       "    <tr>\n",
       "      <th>registered</th>\n",
       "      <td>17379.0</td>\n",
       "      <td>153.786869</td>\n",
       "      <td>151.357286</td>\n",
       "      <td>0.00</td>\n",
       "      <td>34.0000</td>\n",
       "      <td>115.0000</td>\n",
       "      <td>220.0000</td>\n",
       "      <td>886.0000</td>\n",
       "    </tr>\n",
       "    <tr>\n",
       "      <th>cnt</th>\n",
       "      <td>17379.0</td>\n",
       "      <td>189.463088</td>\n",
       "      <td>181.387599</td>\n",
       "      <td>1.00</td>\n",
       "      <td>40.0000</td>\n",
       "      <td>142.0000</td>\n",
       "      <td>281.0000</td>\n",
       "      <td>977.0000</td>\n",
       "    </tr>\n",
       "  </tbody>\n",
       "</table>\n",
       "</div>"
      ],
      "text/plain": [
       "              count         mean          std   min        25%        50%  \\\n",
       "instant     17379.0  8690.000000  5017.029500  1.00  4345.5000  8690.0000   \n",
       "season      17379.0     2.501640     1.106918  1.00     2.0000     3.0000   \n",
       "yr          17379.0     0.502561     0.500008  0.00     0.0000     1.0000   \n",
       "mnth        17379.0     6.537775     3.438776  1.00     4.0000     7.0000   \n",
       "hr          17379.0    11.546752     6.914405  0.00     6.0000    12.0000   \n",
       "holiday     17379.0     0.028770     0.167165  0.00     0.0000     0.0000   \n",
       "weekday     17379.0     3.003683     2.005771  0.00     1.0000     3.0000   \n",
       "workingday  17379.0     0.682721     0.465431  0.00     0.0000     1.0000   \n",
       "weathersit  17379.0     1.425283     0.639357  1.00     1.0000     1.0000   \n",
       "temp        17379.0     0.496987     0.192556  0.02     0.3400     0.5000   \n",
       "atemp       17379.0     0.475775     0.171850  0.00     0.3333     0.4848   \n",
       "hum         17379.0     0.627229     0.192930  0.00     0.4800     0.6300   \n",
       "windspeed   17379.0     0.190098     0.122340  0.00     0.1045     0.1940   \n",
       "casual      17379.0    35.676218    49.305030  0.00     4.0000    17.0000   \n",
       "registered  17379.0   153.786869   151.357286  0.00    34.0000   115.0000   \n",
       "cnt         17379.0   189.463088   181.387599  1.00    40.0000   142.0000   \n",
       "\n",
       "                   75%         max  \n",
       "instant     13034.5000  17379.0000  \n",
       "season          3.0000      4.0000  \n",
       "yr              1.0000      1.0000  \n",
       "mnth           10.0000     12.0000  \n",
       "hr             18.0000     23.0000  \n",
       "holiday         0.0000      1.0000  \n",
       "weekday         5.0000      6.0000  \n",
       "workingday      1.0000      1.0000  \n",
       "weathersit      2.0000      4.0000  \n",
       "temp            0.6600      1.0000  \n",
       "atemp           0.6212      1.0000  \n",
       "hum             0.7800      1.0000  \n",
       "windspeed       0.2537      0.8507  \n",
       "casual         48.0000    367.0000  \n",
       "registered    220.0000    886.0000  \n",
       "cnt           281.0000    977.0000  "
      ]
     },
     "execution_count": 6,
     "metadata": {},
     "output_type": "execute_result"
    }
   ],
   "source": [
    "# Getting some statistic on numerical data \n",
    "# Mean, standard deviation, minimum and maximum values, percentiles\n",
    "\n",
    "hourly_data.describe().T"
   ]
  },
  {
   "cell_type": "markdown",
   "id": "afeb6f22",
   "metadata": {},
   "source": [
    "According to the description, we can split the columns into three main groups:\n",
    "1. temporal features : This group contain all the informations about the time at witch the record was registered. there : dteday, season,yr, mnth, hr, holiday, weekday, and workingday.\n",
    "2. weather related features: This one contains all informations about weather condition: The columns are : weathersit, temp, atemp, hum, windspeed.\n",
    "3. record related features: The contains the information about the number of records for a specific moment(hour and date). This group contains : registered, casual and cnt."
   ]
  },
  {
   "cell_type": "markdown",
   "id": "458a3bd7",
   "metadata": {},
   "source": [
    "### <span><center style=\"text-decoration:underline\">DATA PREPROCESSING</center></span>"
   ]
  },
  {
   "cell_type": "code",
   "execution_count": 7,
   "id": "fe2cf15a",
   "metadata": {},
   "outputs": [],
   "source": [
    "# Create a new copy of hourly data\n",
    "cleaned_data = hourly_data.copy()"
   ]
  },
  {
   "cell_type": "code",
   "execution_count": 8,
   "id": "99a98864",
   "metadata": {},
   "outputs": [],
   "source": [
    "# Transform seasons columns\n",
    "season_mappings = {1: 'winter', 2: 'spring', 3: 'summer', 4: 'fall'}\n",
    "cleaned_data['season'] = cleaned_data['season'].apply(lambda x : season_mappings[x])"
   ]
  },
  {
   "cell_type": "code",
   "execution_count": 9,
   "id": "6fb00c79",
   "metadata": {},
   "outputs": [],
   "source": [
    "# Transform Yr column\n",
    "yr_mapping = {0:2011, 1:2012}\n",
    "cleaned_data['yr'] = cleaned_data['yr'].apply(lambda x : yr_mapping[x])"
   ]
  },
  {
   "cell_type": "code",
   "execution_count": 10,
   "id": "4a78f29a",
   "metadata": {},
   "outputs": [],
   "source": [
    "# Transform the Weekday\n",
    "\n",
    "weekday_mapping = {0: 'Monday', 1: 'Tuesday', 2: 'Wednesday',\\\n",
    "                  3: 'Thursday', 4: 'Friday', 5: 'Saturday',\\\n",
    "                   6: 'Sunday'}\n",
    "\n",
    "cleaned_data['weekday'] =cleaned_data['weekday'].apply(lambda x : weekday_mapping[x])"
   ]
  },
  {
   "cell_type": "code",
   "execution_count": 11,
   "id": "737ab427",
   "metadata": {},
   "outputs": [],
   "source": [
    "# Transform weathersit\n",
    "\n",
    "weathersit_mapping = {1: 'clear', 2: 'cloudy',\\\n",
    "                      3: 'light_rain_snow', 4: 'heavy_rain_snow'}\n",
    "cleaned_data['weathersit'] = cleaned_data['weathersit'].apply(lambda x : weathersit_mapping[x])"
   ]
  },
  {
   "cell_type": "code",
   "execution_count": 12,
   "id": "2aa34ad3",
   "metadata": {},
   "outputs": [],
   "source": [
    "cleaned_data['hum'] = cleaned_data['hum']*100\n",
    "cleaned_data['windspeed'] = cleaned_data['windspeed']*67"
   ]
  },
  {
   "cell_type": "code",
   "execution_count": 13,
   "id": "e9113ff9",
   "metadata": {},
   "outputs": [
    {
     "data": {
      "text/html": [
       "<div>\n",
       "<style scoped>\n",
       "    .dataframe tbody tr th:only-of-type {\n",
       "        vertical-align: middle;\n",
       "    }\n",
       "\n",
       "    .dataframe tbody tr th {\n",
       "        vertical-align: top;\n",
       "    }\n",
       "\n",
       "    .dataframe thead th {\n",
       "        text-align: right;\n",
       "    }\n",
       "</style>\n",
       "<table border=\"1\" class=\"dataframe\">\n",
       "  <thead>\n",
       "    <tr style=\"text-align: right;\">\n",
       "      <th></th>\n",
       "      <th>instant</th>\n",
       "      <th>dteday</th>\n",
       "      <th>season</th>\n",
       "      <th>yr</th>\n",
       "      <th>mnth</th>\n",
       "      <th>hr</th>\n",
       "      <th>holiday</th>\n",
       "      <th>weekday</th>\n",
       "      <th>workingday</th>\n",
       "      <th>weathersit</th>\n",
       "      <th>temp</th>\n",
       "      <th>atemp</th>\n",
       "      <th>hum</th>\n",
       "      <th>windspeed</th>\n",
       "      <th>casual</th>\n",
       "      <th>registered</th>\n",
       "      <th>cnt</th>\n",
       "    </tr>\n",
       "  </thead>\n",
       "  <tbody>\n",
       "    <tr>\n",
       "      <th>0</th>\n",
       "      <td>1</td>\n",
       "      <td>2011-01-01</td>\n",
       "      <td>winter</td>\n",
       "      <td>2011</td>\n",
       "      <td>1</td>\n",
       "      <td>0</td>\n",
       "      <td>0</td>\n",
       "      <td>Sunday</td>\n",
       "      <td>0</td>\n",
       "      <td>clear</td>\n",
       "      <td>0.24</td>\n",
       "      <td>0.2879</td>\n",
       "      <td>81.0</td>\n",
       "      <td>0.0000</td>\n",
       "      <td>3</td>\n",
       "      <td>13</td>\n",
       "      <td>16</td>\n",
       "    </tr>\n",
       "    <tr>\n",
       "      <th>1</th>\n",
       "      <td>2</td>\n",
       "      <td>2011-01-01</td>\n",
       "      <td>winter</td>\n",
       "      <td>2011</td>\n",
       "      <td>1</td>\n",
       "      <td>1</td>\n",
       "      <td>0</td>\n",
       "      <td>Sunday</td>\n",
       "      <td>0</td>\n",
       "      <td>clear</td>\n",
       "      <td>0.22</td>\n",
       "      <td>0.2727</td>\n",
       "      <td>80.0</td>\n",
       "      <td>0.0000</td>\n",
       "      <td>8</td>\n",
       "      <td>32</td>\n",
       "      <td>40</td>\n",
       "    </tr>\n",
       "    <tr>\n",
       "      <th>2</th>\n",
       "      <td>3</td>\n",
       "      <td>2011-01-01</td>\n",
       "      <td>winter</td>\n",
       "      <td>2011</td>\n",
       "      <td>1</td>\n",
       "      <td>2</td>\n",
       "      <td>0</td>\n",
       "      <td>Sunday</td>\n",
       "      <td>0</td>\n",
       "      <td>clear</td>\n",
       "      <td>0.22</td>\n",
       "      <td>0.2727</td>\n",
       "      <td>80.0</td>\n",
       "      <td>0.0000</td>\n",
       "      <td>5</td>\n",
       "      <td>27</td>\n",
       "      <td>32</td>\n",
       "    </tr>\n",
       "    <tr>\n",
       "      <th>3</th>\n",
       "      <td>4</td>\n",
       "      <td>2011-01-01</td>\n",
       "      <td>winter</td>\n",
       "      <td>2011</td>\n",
       "      <td>1</td>\n",
       "      <td>3</td>\n",
       "      <td>0</td>\n",
       "      <td>Sunday</td>\n",
       "      <td>0</td>\n",
       "      <td>clear</td>\n",
       "      <td>0.24</td>\n",
       "      <td>0.2879</td>\n",
       "      <td>75.0</td>\n",
       "      <td>0.0000</td>\n",
       "      <td>3</td>\n",
       "      <td>10</td>\n",
       "      <td>13</td>\n",
       "    </tr>\n",
       "    <tr>\n",
       "      <th>4</th>\n",
       "      <td>5</td>\n",
       "      <td>2011-01-01</td>\n",
       "      <td>winter</td>\n",
       "      <td>2011</td>\n",
       "      <td>1</td>\n",
       "      <td>4</td>\n",
       "      <td>0</td>\n",
       "      <td>Sunday</td>\n",
       "      <td>0</td>\n",
       "      <td>clear</td>\n",
       "      <td>0.24</td>\n",
       "      <td>0.2879</td>\n",
       "      <td>75.0</td>\n",
       "      <td>0.0000</td>\n",
       "      <td>0</td>\n",
       "      <td>1</td>\n",
       "      <td>1</td>\n",
       "    </tr>\n",
       "    <tr>\n",
       "      <th>...</th>\n",
       "      <td>...</td>\n",
       "      <td>...</td>\n",
       "      <td>...</td>\n",
       "      <td>...</td>\n",
       "      <td>...</td>\n",
       "      <td>...</td>\n",
       "      <td>...</td>\n",
       "      <td>...</td>\n",
       "      <td>...</td>\n",
       "      <td>...</td>\n",
       "      <td>...</td>\n",
       "      <td>...</td>\n",
       "      <td>...</td>\n",
       "      <td>...</td>\n",
       "      <td>...</td>\n",
       "      <td>...</td>\n",
       "      <td>...</td>\n",
       "    </tr>\n",
       "    <tr>\n",
       "      <th>17374</th>\n",
       "      <td>17375</td>\n",
       "      <td>2012-12-31</td>\n",
       "      <td>winter</td>\n",
       "      <td>2012</td>\n",
       "      <td>12</td>\n",
       "      <td>19</td>\n",
       "      <td>0</td>\n",
       "      <td>Tuesday</td>\n",
       "      <td>1</td>\n",
       "      <td>cloudy</td>\n",
       "      <td>0.26</td>\n",
       "      <td>0.2576</td>\n",
       "      <td>60.0</td>\n",
       "      <td>11.0014</td>\n",
       "      <td>11</td>\n",
       "      <td>108</td>\n",
       "      <td>119</td>\n",
       "    </tr>\n",
       "    <tr>\n",
       "      <th>17375</th>\n",
       "      <td>17376</td>\n",
       "      <td>2012-12-31</td>\n",
       "      <td>winter</td>\n",
       "      <td>2012</td>\n",
       "      <td>12</td>\n",
       "      <td>20</td>\n",
       "      <td>0</td>\n",
       "      <td>Tuesday</td>\n",
       "      <td>1</td>\n",
       "      <td>cloudy</td>\n",
       "      <td>0.26</td>\n",
       "      <td>0.2576</td>\n",
       "      <td>60.0</td>\n",
       "      <td>11.0014</td>\n",
       "      <td>8</td>\n",
       "      <td>81</td>\n",
       "      <td>89</td>\n",
       "    </tr>\n",
       "    <tr>\n",
       "      <th>17376</th>\n",
       "      <td>17377</td>\n",
       "      <td>2012-12-31</td>\n",
       "      <td>winter</td>\n",
       "      <td>2012</td>\n",
       "      <td>12</td>\n",
       "      <td>21</td>\n",
       "      <td>0</td>\n",
       "      <td>Tuesday</td>\n",
       "      <td>1</td>\n",
       "      <td>clear</td>\n",
       "      <td>0.26</td>\n",
       "      <td>0.2576</td>\n",
       "      <td>60.0</td>\n",
       "      <td>11.0014</td>\n",
       "      <td>7</td>\n",
       "      <td>83</td>\n",
       "      <td>90</td>\n",
       "    </tr>\n",
       "    <tr>\n",
       "      <th>17377</th>\n",
       "      <td>17378</td>\n",
       "      <td>2012-12-31</td>\n",
       "      <td>winter</td>\n",
       "      <td>2012</td>\n",
       "      <td>12</td>\n",
       "      <td>22</td>\n",
       "      <td>0</td>\n",
       "      <td>Tuesday</td>\n",
       "      <td>1</td>\n",
       "      <td>clear</td>\n",
       "      <td>0.26</td>\n",
       "      <td>0.2727</td>\n",
       "      <td>56.0</td>\n",
       "      <td>8.9981</td>\n",
       "      <td>13</td>\n",
       "      <td>48</td>\n",
       "      <td>61</td>\n",
       "    </tr>\n",
       "    <tr>\n",
       "      <th>17378</th>\n",
       "      <td>17379</td>\n",
       "      <td>2012-12-31</td>\n",
       "      <td>winter</td>\n",
       "      <td>2012</td>\n",
       "      <td>12</td>\n",
       "      <td>23</td>\n",
       "      <td>0</td>\n",
       "      <td>Tuesday</td>\n",
       "      <td>1</td>\n",
       "      <td>clear</td>\n",
       "      <td>0.26</td>\n",
       "      <td>0.2727</td>\n",
       "      <td>65.0</td>\n",
       "      <td>8.9981</td>\n",
       "      <td>12</td>\n",
       "      <td>37</td>\n",
       "      <td>49</td>\n",
       "    </tr>\n",
       "  </tbody>\n",
       "</table>\n",
       "<p>17379 rows × 17 columns</p>\n",
       "</div>"
      ],
      "text/plain": [
       "       instant      dteday  season    yr  mnth  hr  holiday  weekday  \\\n",
       "0            1  2011-01-01  winter  2011     1   0        0   Sunday   \n",
       "1            2  2011-01-01  winter  2011     1   1        0   Sunday   \n",
       "2            3  2011-01-01  winter  2011     1   2        0   Sunday   \n",
       "3            4  2011-01-01  winter  2011     1   3        0   Sunday   \n",
       "4            5  2011-01-01  winter  2011     1   4        0   Sunday   \n",
       "...        ...         ...     ...   ...   ...  ..      ...      ...   \n",
       "17374    17375  2012-12-31  winter  2012    12  19        0  Tuesday   \n",
       "17375    17376  2012-12-31  winter  2012    12  20        0  Tuesday   \n",
       "17376    17377  2012-12-31  winter  2012    12  21        0  Tuesday   \n",
       "17377    17378  2012-12-31  winter  2012    12  22        0  Tuesday   \n",
       "17378    17379  2012-12-31  winter  2012    12  23        0  Tuesday   \n",
       "\n",
       "       workingday weathersit  temp   atemp   hum  windspeed  casual  \\\n",
       "0               0      clear  0.24  0.2879  81.0     0.0000       3   \n",
       "1               0      clear  0.22  0.2727  80.0     0.0000       8   \n",
       "2               0      clear  0.22  0.2727  80.0     0.0000       5   \n",
       "3               0      clear  0.24  0.2879  75.0     0.0000       3   \n",
       "4               0      clear  0.24  0.2879  75.0     0.0000       0   \n",
       "...           ...        ...   ...     ...   ...        ...     ...   \n",
       "17374           1     cloudy  0.26  0.2576  60.0    11.0014      11   \n",
       "17375           1     cloudy  0.26  0.2576  60.0    11.0014       8   \n",
       "17376           1      clear  0.26  0.2576  60.0    11.0014       7   \n",
       "17377           1      clear  0.26  0.2727  56.0     8.9981      13   \n",
       "17378           1      clear  0.26  0.2727  65.0     8.9981      12   \n",
       "\n",
       "       registered  cnt  \n",
       "0              13   16  \n",
       "1              32   40  \n",
       "2              27   32  \n",
       "3              10   13  \n",
       "4               1    1  \n",
       "...           ...  ...  \n",
       "17374         108  119  \n",
       "17375          81   89  \n",
       "17376          83   90  \n",
       "17377          48   61  \n",
       "17378          37   49  \n",
       "\n",
       "[17379 rows x 17 columns]"
      ]
     },
     "execution_count": 13,
     "metadata": {},
     "output_type": "execute_result"
    }
   ],
   "source": [
    "cleaned_data"
   ]
  },
  {
   "cell_type": "markdown",
   "id": "bb2bfa45",
   "metadata": {},
   "source": [
    "### <span><center style=\"text-decoration:underline\">ANALYSIS OF RECORD RELATED FEATURES</center></span>"
   ]
  },
  {
   "cell_type": "code",
   "execution_count": 14,
   "id": "42a63730",
   "metadata": {},
   "outputs": [
    {
     "data": {
      "text/html": [
       "<div>\n",
       "<style scoped>\n",
       "    .dataframe tbody tr th:only-of-type {\n",
       "        vertical-align: middle;\n",
       "    }\n",
       "\n",
       "    .dataframe tbody tr th {\n",
       "        vertical-align: top;\n",
       "    }\n",
       "\n",
       "    .dataframe thead th {\n",
       "        text-align: right;\n",
       "    }\n",
       "</style>\n",
       "<table border=\"1\" class=\"dataframe\">\n",
       "  <thead>\n",
       "    <tr style=\"text-align: right;\">\n",
       "      <th></th>\n",
       "      <th>registered</th>\n",
       "      <th>casual</th>\n",
       "    </tr>\n",
       "  </thead>\n",
       "  <tbody>\n",
       "    <tr>\n",
       "      <th>count</th>\n",
       "      <td>17379.000000</td>\n",
       "      <td>17379.000000</td>\n",
       "    </tr>\n",
       "    <tr>\n",
       "      <th>mean</th>\n",
       "      <td>153.786869</td>\n",
       "      <td>35.676218</td>\n",
       "    </tr>\n",
       "    <tr>\n",
       "      <th>std</th>\n",
       "      <td>151.357286</td>\n",
       "      <td>49.305030</td>\n",
       "    </tr>\n",
       "    <tr>\n",
       "      <th>min</th>\n",
       "      <td>0.000000</td>\n",
       "      <td>0.000000</td>\n",
       "    </tr>\n",
       "    <tr>\n",
       "      <th>25%</th>\n",
       "      <td>34.000000</td>\n",
       "      <td>4.000000</td>\n",
       "    </tr>\n",
       "    <tr>\n",
       "      <th>50%</th>\n",
       "      <td>115.000000</td>\n",
       "      <td>17.000000</td>\n",
       "    </tr>\n",
       "    <tr>\n",
       "      <th>75%</th>\n",
       "      <td>220.000000</td>\n",
       "      <td>48.000000</td>\n",
       "    </tr>\n",
       "    <tr>\n",
       "      <th>max</th>\n",
       "      <td>886.000000</td>\n",
       "      <td>367.000000</td>\n",
       "    </tr>\n",
       "  </tbody>\n",
       "</table>\n",
       "</div>"
      ],
      "text/plain": [
       "         registered        casual\n",
       "count  17379.000000  17379.000000\n",
       "mean     153.786869     35.676218\n",
       "std      151.357286     49.305030\n",
       "min        0.000000      0.000000\n",
       "25%       34.000000      4.000000\n",
       "50%      115.000000     17.000000\n",
       "75%      220.000000     48.000000\n",
       "max      886.000000    367.000000"
      ]
     },
     "execution_count": 14,
     "metadata": {},
     "output_type": "execute_result"
    }
   ],
   "source": [
    "cleaned_data[['registered', 'casual']].describe()"
   ]
  },
  {
   "cell_type": "code",
   "execution_count": 15,
   "id": "4e220b41",
   "metadata": {},
   "outputs": [
    {
     "data": {
      "text/plain": [
       "(-10.0, 400.0)"
      ]
     },
     "execution_count": 15,
     "metadata": {},
     "output_type": "execute_result"
    },
    {
     "data": {
      "image/png": "[encoded data removed]",
      "text/plain": [
       "<Figure size 1296x576 with 1 Axes>"
      ]
     },
     "metadata": {
      "needs_background": "light"
     },
     "output_type": "display_data"
    }
   ],
   "source": [
    "# plot the distributions of registered and casual columns\n",
    "\n",
    "fig, ax = plt.subplots(1, 1, figsize=(18, 8))\n",
    "\n",
    "sns.histplot(cleaned_data['registered'], ax=ax, legend=\"Registered\",color=\"tomato\", kde=True)\n",
    "sns.histplot(cleaned_data['casual'], ax=ax, legend=\"Casual\", color=\"darkblue\", kde=True)\n",
    "ax.legend(['Registered', 'Casual'])\n",
    "ax.set_xlabel('rides')\n",
    "ax.set_title(\"Rides distributions\")\n",
    "ax.set_xlim((-10, 400))"
   ]
  },
  {
   "cell_type": "markdown",
   "id": "b5e49442",
   "metadata": {},
   "source": [
    "## Interpretation & Conclusion\n",
    "\n",
    "1. The users registered perform way mores rides than causal ones.\n",
    "2. The both distributions are skewed to the right : that mean that most of the data entries, zero or a small number of rides were registered. This could be because of overnight rides.\n",
    "3. The mininum number of registered rides is 0 and the maximun numbers is 886.\n",
    "4. For 75% of the entries data, there less or equal to 220 registered rides and then 25% of the data are at least than 220 registered for maximal values of 886.\n",
    "5. The mean value of registed rides per day is 153.78.\n",
    "6. The minimun number no registered rides is also 0 and the maximum number is 367.\n",
    "7. For 75% of the entries data, only 48 rides are not registered and then 25% of the data entries are over than 48 no registered rides.\n",
    "8. The mean value of not registered rides per day is 35.67."
   ]
  },
  {
   "cell_type": "markdown",
   "id": "d0af8bce",
   "metadata": {},
   "source": [
    "### <span><center style=\"text-decoration:underline\">ANALYSING SEASONAL IMPACT ON RIDES</center></span>"
   ]
  },
  {
   "cell_type": "code",
   "execution_count": 16,
   "id": "7a89c845",
   "metadata": {},
   "outputs": [
    {
     "data": {
      "image/png": "[encoded data removed]",
      "text/plain": [
       "<Figure size 1440x576 with 1 Axes>"
      ]
     },
     "metadata": {
      "needs_background": "light"
     },
     "output_type": "display_data"
    }
   ],
   "source": [
    "# Visualisation the evolution of registered and casual rides per day\n",
    "dteday_group = cleaned_data[['dteday', 'registered', 'casual']].groupby('dteday').sum()\n",
    "dteday_group.plot(figsize=(20, 8))\n",
    "plt.title('The evolution of Registered and no Registered rides / day')\n",
    "plt.xlabel('Date Day')\n",
    "plt.ylabel('Number of rides per day');"
   ]
  },
  {
   "cell_type": "code",
   "execution_count": 17,
   "id": "1c1f7435",
   "metadata": {},
   "outputs": [
    {
     "data": {
      "image/png": "[encoded data removed]",
      "text/plain": [
       "<Figure size 720x432 with 1 Axes>"
      ]
     },
     "metadata": {
      "needs_background": "light"
     },
     "output_type": "display_data"
    }
   ],
   "source": [
    "\"\"\"\n",
    "Create new dataframe with necessary for plotting columns, and obtain\n",
    "number of rides per day, by grouping over each day\n",
    "\"\"\"\n",
    "\n",
    "window = 7\n",
    "\n",
    "rolling_means = dteday_group.rolling(window).mean()\n",
    "rolling_std = dteday_group.rolling(window).std()\n",
    "\n",
    "\"\"\"\n",
    "Create a plot of the series, where we first plot the series of rolling\n",
    "means, then we color the zone between the series of rolling means +- 2\n",
    "rolling standard deviations\n",
    "\"\"\"\n",
    "\n",
    "ax = rolling_means.plot(figsize=(10, 6))\n",
    "ax.fill_between(rolling_means.index, rolling_means['registered'] \\\n",
    "                + 2*rolling_std['registered'], \\\n",
    "                rolling_means['registered'] - 2*rolling_std['registered'],\\\n",
    "                alpha=0.2)\n",
    "\n",
    "ax.fill_between(rolling_means.index,\\\n",
    "                rolling_means['casual']+2*rolling_std['casual'],\\\n",
    "               rolling_means['casual']-2*rolling_std['casual'],\\\n",
    "               alpha=0.2)\n",
    "\n",
    "ax.set_title('The evolution of Registered and no Registered rides / day')\n",
    "ax.set_xlabel('Date Day')\n",
    "ax.set_ylabel('Number of rides per day');"
   ]
  },
  {
   "cell_type": "markdown",
   "id": "d4e667c4",
   "metadata": {},
   "source": [
    "#### Interpretation\n",
    "1. According to both plot, the number of registered rides is always above and significantly higher than the number of casual rides per day.\n",
    "2. We can observe that during winter season, the overall numbers of rides decrease. That is in line with our expectations. En fact, Bad weather and low temperatures have negative impact on ride sharing services.\n",
    "\n",
    "3. The rolling standart deviation is almost constant during the time.\n",
    "3. But the rolling standart mean change over the time. \n",
    "\n",
    "#### Next :\n",
    "In the next step we will be exploring the distributions of requests over separate hours and days of week. We would expect that certain time patterns to arise, as bike requests should be more frequent during certain hours of the day depending on the day of the week."
   ]
  },
  {
   "cell_type": "code",
   "execution_count": 18,
   "id": "59c1b1ed",
   "metadata": {},
   "outputs": [],
   "source": [
    "# Select the relevant columns\n",
    "\n",
    "cols = ['hr', 'weekday', 'casual', 'registered']\n",
    "\n",
    "\"\"\"\n",
    "transform the data into a format, in number of entries are computed as\n",
    "count,\n",
    "for each distinct hr, weekday and type (registered or casual)\n",
    "\"\"\"\n",
    "\n",
    "hr_melt_data = pd.melt(cleaned_data[cols], id_vars=['hr', 'weekday'], var_name='type', value_name='count')"
   ]
  },
  {
   "cell_type": "code",
   "execution_count": 19,
   "id": "d24ceadd",
   "metadata": {},
   "outputs": [
    {
     "data": {
      "text/html": [
       "<div>\n",
       "<style scoped>\n",
       "    .dataframe tbody tr th:only-of-type {\n",
       "        vertical-align: middle;\n",
       "    }\n",
       "\n",
       "    .dataframe tbody tr th {\n",
       "        vertical-align: top;\n",
       "    }\n",
       "\n",
       "    .dataframe thead th {\n",
       "        text-align: right;\n",
       "    }\n",
       "</style>\n",
       "<table border=\"1\" class=\"dataframe\">\n",
       "  <thead>\n",
       "    <tr style=\"text-align: right;\">\n",
       "      <th></th>\n",
       "      <th>hr</th>\n",
       "      <th>weekday</th>\n",
       "      <th>type</th>\n",
       "      <th>count</th>\n",
       "    </tr>\n",
       "  </thead>\n",
       "  <tbody>\n",
       "    <tr>\n",
       "      <th>0</th>\n",
       "      <td>0</td>\n",
       "      <td>Sunday</td>\n",
       "      <td>casual</td>\n",
       "      <td>3</td>\n",
       "    </tr>\n",
       "    <tr>\n",
       "      <th>1</th>\n",
       "      <td>1</td>\n",
       "      <td>Sunday</td>\n",
       "      <td>casual</td>\n",
       "      <td>8</td>\n",
       "    </tr>\n",
       "    <tr>\n",
       "      <th>2</th>\n",
       "      <td>2</td>\n",
       "      <td>Sunday</td>\n",
       "      <td>casual</td>\n",
       "      <td>5</td>\n",
       "    </tr>\n",
       "    <tr>\n",
       "      <th>3</th>\n",
       "      <td>3</td>\n",
       "      <td>Sunday</td>\n",
       "      <td>casual</td>\n",
       "      <td>3</td>\n",
       "    </tr>\n",
       "    <tr>\n",
       "      <th>4</th>\n",
       "      <td>4</td>\n",
       "      <td>Sunday</td>\n",
       "      <td>casual</td>\n",
       "      <td>0</td>\n",
       "    </tr>\n",
       "    <tr>\n",
       "      <th>...</th>\n",
       "      <td>...</td>\n",
       "      <td>...</td>\n",
       "      <td>...</td>\n",
       "      <td>...</td>\n",
       "    </tr>\n",
       "    <tr>\n",
       "      <th>34753</th>\n",
       "      <td>19</td>\n",
       "      <td>Tuesday</td>\n",
       "      <td>registered</td>\n",
       "      <td>108</td>\n",
       "    </tr>\n",
       "    <tr>\n",
       "      <th>34754</th>\n",
       "      <td>20</td>\n",
       "      <td>Tuesday</td>\n",
       "      <td>registered</td>\n",
       "      <td>81</td>\n",
       "    </tr>\n",
       "    <tr>\n",
       "      <th>34755</th>\n",
       "      <td>21</td>\n",
       "      <td>Tuesday</td>\n",
       "      <td>registered</td>\n",
       "      <td>83</td>\n",
       "    </tr>\n",
       "    <tr>\n",
       "      <th>34756</th>\n",
       "      <td>22</td>\n",
       "      <td>Tuesday</td>\n",
       "      <td>registered</td>\n",
       "      <td>48</td>\n",
       "    </tr>\n",
       "    <tr>\n",
       "      <th>34757</th>\n",
       "      <td>23</td>\n",
       "      <td>Tuesday</td>\n",
       "      <td>registered</td>\n",
       "      <td>37</td>\n",
       "    </tr>\n",
       "  </tbody>\n",
       "</table>\n",
       "<p>34758 rows × 4 columns</p>\n",
       "</div>"
      ],
      "text/plain": [
       "       hr  weekday        type  count\n",
       "0       0   Sunday      casual      3\n",
       "1       1   Sunday      casual      8\n",
       "2       2   Sunday      casual      5\n",
       "3       3   Sunday      casual      3\n",
       "4       4   Sunday      casual      0\n",
       "...    ..      ...         ...    ...\n",
       "34753  19  Tuesday  registered    108\n",
       "34754  20  Tuesday  registered     81\n",
       "34755  21  Tuesday  registered     83\n",
       "34756  22  Tuesday  registered     48\n",
       "34757  23  Tuesday  registered     37\n",
       "\n",
       "[34758 rows x 4 columns]"
      ]
     },
     "execution_count": 19,
     "metadata": {},
     "output_type": "execute_result"
    }
   ],
   "source": [
    "hr_melt_data"
   ]
  },
  {
   "cell_type": "code",
   "execution_count": 20,
   "id": "c2caf0c1",
   "metadata": {},
   "outputs": [
    {
     "data": {
      "image/png": "[encoded data removed]",
      "text/plain": [
       "<Figure size 900x1260 with 14 Axes>"
      ]
     },
     "metadata": {
      "needs_background": "light"
     },
     "output_type": "display_data"
    }
   ],
   "source": [
    "\"\"\"\n",
    "create FacetGrid object, in which a grid plot is produced.\n",
    "As columns, we have the various days of the week,\n",
    "as rows, the different types (registered and casual)\n",
    "\"\"\"\n",
    "\n",
    "grid = sns.FacetGrid(hr_melt_data, row='weekday', col='type',\\\n",
    "                    row_order=['Monday', 'Tuesday', 'Wednesday',\\\n",
    "                               'Thursday','Friday', 'Saturday', 'Sunday'],\\\n",
    "                    height=2.5, aspect=2.5, margin_titles=True)\n",
    "grid.map(sns.barplot, 'hr', 'count',order=None, alpha=0.5);"
   ]
  },
  {
   "cell_type": "markdown",
   "id": "67544b46",
   "metadata": {},
   "source": [
    "#### Interpretation\n",
    "1. There are less and less registered users using the bike sharing services from 0 AM to 7 AM. That correspond to the time where most the workers are in rest.\n",
    "2. On working day, the registered users rides numbers is high around from 7 AM to 9 AM and 4 PM to 8 PM. It like the most registered users use the bike sharing service for commuting.\n",
    "3. From 9 AM to 4 PM, the numbers of registered users are decrease. At this time most of the workers are in their work department.\n",
    "4. The casual usage of bike sharing on workings day are limited.\n",
    "5. All the above analysis are in line with our expections. We can conclude that most of the usage of bike sharing service occurs during working days, right before and right after the standard working time."
   ]
  },
  {
   "cell_type": "code",
   "execution_count": 21,
   "id": "b70f8664",
   "metadata": {},
   "outputs": [
    {
     "data": {
      "text/html": [
       "<div>\n",
       "<style scoped>\n",
       "    .dataframe tbody tr th:only-of-type {\n",
       "        vertical-align: middle;\n",
       "    }\n",
       "\n",
       "    .dataframe tbody tr th {\n",
       "        vertical-align: top;\n",
       "    }\n",
       "\n",
       "    .dataframe thead th {\n",
       "        text-align: right;\n",
       "    }\n",
       "</style>\n",
       "<table border=\"1\" class=\"dataframe\">\n",
       "  <thead>\n",
       "    <tr style=\"text-align: right;\">\n",
       "      <th></th>\n",
       "      <th>hr</th>\n",
       "      <th>season</th>\n",
       "      <th>type</th>\n",
       "      <th>count</th>\n",
       "    </tr>\n",
       "  </thead>\n",
       "  <tbody>\n",
       "    <tr>\n",
       "      <th>0</th>\n",
       "      <td>0</td>\n",
       "      <td>winter</td>\n",
       "      <td>registered</td>\n",
       "      <td>13</td>\n",
       "    </tr>\n",
       "    <tr>\n",
       "      <th>1</th>\n",
       "      <td>1</td>\n",
       "      <td>winter</td>\n",
       "      <td>registered</td>\n",
       "      <td>32</td>\n",
       "    </tr>\n",
       "    <tr>\n",
       "      <th>2</th>\n",
       "      <td>2</td>\n",
       "      <td>winter</td>\n",
       "      <td>registered</td>\n",
       "      <td>27</td>\n",
       "    </tr>\n",
       "    <tr>\n",
       "      <th>3</th>\n",
       "      <td>3</td>\n",
       "      <td>winter</td>\n",
       "      <td>registered</td>\n",
       "      <td>10</td>\n",
       "    </tr>\n",
       "    <tr>\n",
       "      <th>4</th>\n",
       "      <td>4</td>\n",
       "      <td>winter</td>\n",
       "      <td>registered</td>\n",
       "      <td>1</td>\n",
       "    </tr>\n",
       "    <tr>\n",
       "      <th>...</th>\n",
       "      <td>...</td>\n",
       "      <td>...</td>\n",
       "      <td>...</td>\n",
       "      <td>...</td>\n",
       "    </tr>\n",
       "    <tr>\n",
       "      <th>34753</th>\n",
       "      <td>19</td>\n",
       "      <td>winter</td>\n",
       "      <td>casual</td>\n",
       "      <td>11</td>\n",
       "    </tr>\n",
       "    <tr>\n",
       "      <th>34754</th>\n",
       "      <td>20</td>\n",
       "      <td>winter</td>\n",
       "      <td>casual</td>\n",
       "      <td>8</td>\n",
       "    </tr>\n",
       "    <tr>\n",
       "      <th>34755</th>\n",
       "      <td>21</td>\n",
       "      <td>winter</td>\n",
       "      <td>casual</td>\n",
       "      <td>7</td>\n",
       "    </tr>\n",
       "    <tr>\n",
       "      <th>34756</th>\n",
       "      <td>22</td>\n",
       "      <td>winter</td>\n",
       "      <td>casual</td>\n",
       "      <td>13</td>\n",
       "    </tr>\n",
       "    <tr>\n",
       "      <th>34757</th>\n",
       "      <td>23</td>\n",
       "      <td>winter</td>\n",
       "      <td>casual</td>\n",
       "      <td>12</td>\n",
       "    </tr>\n",
       "  </tbody>\n",
       "</table>\n",
       "<p>34758 rows × 4 columns</p>\n",
       "</div>"
      ],
      "text/plain": [
       "       hr  season        type  count\n",
       "0       0  winter  registered     13\n",
       "1       1  winter  registered     32\n",
       "2       2  winter  registered     27\n",
       "3       3  winter  registered     10\n",
       "4       4  winter  registered      1\n",
       "...    ..     ...         ...    ...\n",
       "34753  19  winter      casual     11\n",
       "34754  20  winter      casual      8\n",
       "34755  21  winter      casual      7\n",
       "34756  22  winter      casual     13\n",
       "34757  23  winter      casual     12\n",
       "\n",
       "[34758 rows x 4 columns]"
      ]
     },
     "execution_count": 21,
     "metadata": {},
     "output_type": "execute_result"
    }
   ],
   "source": [
    "# Select the relevan columns \n",
    "cols = ['hr', 'season', 'registered', 'casual']\n",
    "\n",
    "# Creating a new dataset by unpivoting the dataset from wide to long\n",
    "\n",
    "season_hr_melt_data = pd.melt(cleaned_data[cols], id_vars=['hr', 'season'],\\\n",
    "       var_name=\"type\", value_name=\"count\")\n",
    "season_hr_melt_data"
   ]
  },
  {
   "cell_type": "code",
   "execution_count": 22,
   "id": "8cca04f7",
   "metadata": {},
   "outputs": [
    {
     "data": {
      "image/png": "[encoded data removed]",
      "text/plain": [
       "<Figure size 900x720 with 8 Axes>"
      ]
     },
     "metadata": {
      "needs_background": "light"
     },
     "output_type": "display_data"
    }
   ],
   "source": [
    "\"\"\"\n",
    "create FacetGrid object, in which a grid plot is produced.\n",
    "As columns, we have the various season,\n",
    "as rows, the different types (registered and casual)\n",
    "\"\"\"\n",
    "\n",
    "grid = sns.FacetGrid(season_hr_melt_data,\\\n",
    "                     row='season', col='type',\\\n",
    "                    height=2.5, aspect=2.5,\\\n",
    "                     margin_titles=True,\\\n",
    "                     col_order=['casual', 'registered']\n",
    "                    )\n",
    "\n",
    "grid.map(sns.barplot, 'hr', 'count', order=None, alpha=0.5); "
   ]
  },
  {
   "cell_type": "markdown",
   "id": "cf08c04e",
   "metadata": {},
   "source": [
    "#### Interpretation\n",
    "\n",
    "1. All the four seasons are almost the same shape. But, the season winter are lower than the others season.\n",
    "2. This is possible because there are fewer rides(both casual and registered users) during winter. Fewer rides are likely to occur when the weathers conditions are poor."
   ]
  },
  {
   "cell_type": "code",
   "execution_count": 23,
   "id": "bfe17278",
   "metadata": {},
   "outputs": [
    {
     "data": {
      "text/html": [
       "<div>\n",
       "<style scoped>\n",
       "    .dataframe tbody tr th:only-of-type {\n",
       "        vertical-align: middle;\n",
       "    }\n",
       "\n",
       "    .dataframe tbody tr th {\n",
       "        vertical-align: top;\n",
       "    }\n",
       "\n",
       "    .dataframe thead th {\n",
       "        text-align: right;\n",
       "    }\n",
       "</style>\n",
       "<table border=\"1\" class=\"dataframe\">\n",
       "  <thead>\n",
       "    <tr style=\"text-align: right;\">\n",
       "      <th></th>\n",
       "      <th>weekday</th>\n",
       "      <th>season</th>\n",
       "      <th>type</th>\n",
       "      <th>count</th>\n",
       "    </tr>\n",
       "  </thead>\n",
       "  <tbody>\n",
       "    <tr>\n",
       "      <th>0</th>\n",
       "      <td>Sunday</td>\n",
       "      <td>winter</td>\n",
       "      <td>registered</td>\n",
       "      <td>13</td>\n",
       "    </tr>\n",
       "    <tr>\n",
       "      <th>1</th>\n",
       "      <td>Sunday</td>\n",
       "      <td>winter</td>\n",
       "      <td>registered</td>\n",
       "      <td>32</td>\n",
       "    </tr>\n",
       "    <tr>\n",
       "      <th>2</th>\n",
       "      <td>Sunday</td>\n",
       "      <td>winter</td>\n",
       "      <td>registered</td>\n",
       "      <td>27</td>\n",
       "    </tr>\n",
       "    <tr>\n",
       "      <th>3</th>\n",
       "      <td>Sunday</td>\n",
       "      <td>winter</td>\n",
       "      <td>registered</td>\n",
       "      <td>10</td>\n",
       "    </tr>\n",
       "    <tr>\n",
       "      <th>4</th>\n",
       "      <td>Sunday</td>\n",
       "      <td>winter</td>\n",
       "      <td>registered</td>\n",
       "      <td>1</td>\n",
       "    </tr>\n",
       "    <tr>\n",
       "      <th>...</th>\n",
       "      <td>...</td>\n",
       "      <td>...</td>\n",
       "      <td>...</td>\n",
       "      <td>...</td>\n",
       "    </tr>\n",
       "    <tr>\n",
       "      <th>34753</th>\n",
       "      <td>Tuesday</td>\n",
       "      <td>winter</td>\n",
       "      <td>casual</td>\n",
       "      <td>11</td>\n",
       "    </tr>\n",
       "    <tr>\n",
       "      <th>34754</th>\n",
       "      <td>Tuesday</td>\n",
       "      <td>winter</td>\n",
       "      <td>casual</td>\n",
       "      <td>8</td>\n",
       "    </tr>\n",
       "    <tr>\n",
       "      <th>34755</th>\n",
       "      <td>Tuesday</td>\n",
       "      <td>winter</td>\n",
       "      <td>casual</td>\n",
       "      <td>7</td>\n",
       "    </tr>\n",
       "    <tr>\n",
       "      <th>34756</th>\n",
       "      <td>Tuesday</td>\n",
       "      <td>winter</td>\n",
       "      <td>casual</td>\n",
       "      <td>13</td>\n",
       "    </tr>\n",
       "    <tr>\n",
       "      <th>34757</th>\n",
       "      <td>Tuesday</td>\n",
       "      <td>winter</td>\n",
       "      <td>casual</td>\n",
       "      <td>12</td>\n",
       "    </tr>\n",
       "  </tbody>\n",
       "</table>\n",
       "<p>34758 rows × 4 columns</p>\n",
       "</div>"
      ],
      "text/plain": [
       "       weekday  season        type  count\n",
       "0       Sunday  winter  registered     13\n",
       "1       Sunday  winter  registered     32\n",
       "2       Sunday  winter  registered     27\n",
       "3       Sunday  winter  registered     10\n",
       "4       Sunday  winter  registered      1\n",
       "...        ...     ...         ...    ...\n",
       "34753  Tuesday  winter      casual     11\n",
       "34754  Tuesday  winter      casual      8\n",
       "34755  Tuesday  winter      casual      7\n",
       "34756  Tuesday  winter      casual     13\n",
       "34757  Tuesday  winter      casual     12\n",
       "\n",
       "[34758 rows x 4 columns]"
      ]
     },
     "execution_count": 23,
     "metadata": {},
     "output_type": "execute_result"
    }
   ],
   "source": [
    "# Select the relevant columns\n",
    "\n",
    "cols = ['weekday', 'season', 'registered', 'casual']\n",
    "\n",
    "weekday_season_grp = pd.melt(cleaned_data[cols],\\\n",
    "                             id_vars=['weekday', 'season'],\\\n",
    "                            var_name='type', value_name='count')\n",
    "weekday_season_grp"
   ]
  },
  {
   "cell_type": "code",
   "execution_count": 24,
   "id": "5c3a25a9",
   "metadata": {},
   "outputs": [],
   "source": [
    "days = ['Monday', 'Tuesday', 'Wednesday',\\\n",
    "        'Thursday', 'Friday', 'Saturday',\\\n",
    "        'Sunday']\n",
    "weekday_api = pd.api.types.CategoricalDtype(categories=days, ordered=False)\n",
    "weekday_season_grp['weekday'] = weekday_season_grp['weekday'].astype(weekday_api)"
   ]
  },
  {
   "cell_type": "code",
   "execution_count": 25,
   "id": "0279ae15",
   "metadata": {},
   "outputs": [
    {
     "data": {
      "image/png": "[encoded data removed]",
      "text/plain": [
       "<Figure size 900x720 with 8 Axes>"
      ]
     },
     "metadata": {
      "needs_background": "light"
     },
     "output_type": "display_data"
    }
   ],
   "source": [
    "\"\"\"\n",
    "create FacetGrid object, in which a grid plot is produced.\n",
    "As columns, we have the various days of the week,\n",
    "as rows, the different types (registered and casual)\n",
    "\"\"\"\n",
    "\n",
    "grid = sns.FacetGrid(weekday_season_grp, row='season',\\\n",
    "                     col='type',\\\n",
    "                    height=2.5, aspect=2.5,\\\n",
    "                    margin_titles=True, col_order=['casual', 'registered'])\n",
    "grid.map(sns.barplot, 'weekday', 'count', order=None, alpha=0.5);"
   ]
  },
  {
   "cell_type": "markdown",
   "id": "9e8c83f1",
   "metadata": {},
   "source": [
    "#### Interpretation\n",
    "\n",
    "1. There is a decreasing number of registered rides over the sunday and Monday comparing to the other days of the week\n",
    "2. While the number of casual rides increase onver the sunday and Monday.\n",
    "3. That renforce our hypothesis, that is, the the registered rides monstly us the bike sharing services for commuting. while the casual customers use it occasionnaly over the weekend."
   ]
  },
  {
   "cell_type": "code",
   "execution_count": 26,
   "id": "959e448d",
   "metadata": {},
   "outputs": [
    {
     "data": {
      "text/html": [
       "<div>\n",
       "<style scoped>\n",
       "    .dataframe tbody tr th:only-of-type {\n",
       "        vertical-align: middle;\n",
       "    }\n",
       "\n",
       "    .dataframe tbody tr th {\n",
       "        vertical-align: top;\n",
       "    }\n",
       "\n",
       "    .dataframe thead th {\n",
       "        text-align: right;\n",
       "    }\n",
       "</style>\n",
       "<table border=\"1\" class=\"dataframe\">\n",
       "  <thead>\n",
       "    <tr style=\"text-align: right;\">\n",
       "      <th></th>\n",
       "      <th>season</th>\n",
       "      <th>casual</th>\n",
       "      <th>registered</th>\n",
       "    </tr>\n",
       "  </thead>\n",
       "  <tbody>\n",
       "    <tr>\n",
       "      <th>0</th>\n",
       "      <td>fall</td>\n",
       "      <td>129782</td>\n",
       "      <td>711831</td>\n",
       "    </tr>\n",
       "    <tr>\n",
       "      <th>1</th>\n",
       "      <td>spring</td>\n",
       "      <td>203522</td>\n",
       "      <td>715067</td>\n",
       "    </tr>\n",
       "    <tr>\n",
       "      <th>2</th>\n",
       "      <td>summer</td>\n",
       "      <td>226091</td>\n",
       "      <td>835038</td>\n",
       "    </tr>\n",
       "    <tr>\n",
       "      <th>3</th>\n",
       "      <td>winter</td>\n",
       "      <td>60622</td>\n",
       "      <td>410726</td>\n",
       "    </tr>\n",
       "  </tbody>\n",
       "</table>\n",
       "</div>"
      ],
      "text/plain": [
       "   season  casual  registered\n",
       "0    fall  129782      711831\n",
       "1  spring  203522      715067\n",
       "2  summer  226091      835038\n",
       "3  winter   60622      410726"
      ]
     },
     "execution_count": 26,
     "metadata": {},
     "output_type": "execute_result"
    }
   ],
   "source": [
    "season_grp = cleaned_data[['season', 'casual', 'registered']].groupby('season').sum()\n",
    "season_grp.reset_index(inplace=True)\n",
    "season_grp\n",
    "season_mapping = ['winter', 'spring', 'summer', 'fall']\n",
    "season_api = pd.api.types.CategoricalDtype(season_mapping, ordered=False)\n",
    "season_grp['season'] = season_grp['season'].astype(season_api)\n",
    "\n",
    "# sns.barplot(season_grp, x='season')\n",
    "season_grp"
   ]
  },
  {
   "cell_type": "code",
   "execution_count": 27,
   "id": "6b1c98c3",
   "metadata": {},
   "outputs": [
    {
     "data": {
      "image/png": "[encoded data removed]",
      "text/plain": [
       "<Figure size 864x432 with 1 Axes>"
      ]
     },
     "metadata": {
      "needs_background": "light"
     },
     "output_type": "display_data"
    }
   ],
   "source": [
    "plt.figure(figsize=(12, 6))\n",
    "fig1 = sns.barplot(data=season_grp, x='season', y='registered', color='red', label='Registered')\n",
    "\n",
    "fig2 = sns.barplot(data=season_grp, x='season', y='casual', color='blue', label='Casual')\n",
    "plt.ylabel('Rides Number')\n",
    "plt.legend();"
   ]
  },
  {
   "cell_type": "markdown",
   "id": "fd0d274d",
   "metadata": {},
   "source": [
    "#### Interpretation\n",
    "1. From the barplot above, we can see that the number of rides is very high in sping, summer and fall.\n",
    "2. In other hand the number of rides is lower in winter. \n",
    "3. All these confirme our expections, the of bike sharing service change over the season."
   ]
  },
  {
   "cell_type": "markdown",
   "id": "3152863c",
   "metadata": {},
   "source": [
    "### <span><center style=\"text-decoration:underline\">HYPOTHESIS TESTS / INFERENTIAL ANALYSE</center></span>\n",
    "The hypothesis test, provide tools to confirme or reject our passed affirmation abour registered and casual users of bike sharing services. From the previous analysis, we observed graphically that registered users tend to use bike sharing services during working days than weekend. We have to assess this statement by using hypothesis test. We will test whetter the mean of registered rides during working days is the same as during the weekend.  \n",
    "* H_0 : Average registered rides over weekdays-average registered rides over weekend = 0;\n",
    "* H_a : Average registered rides over weekdays-average registered rides over weekend !=0;"
   ]
  },
  {
   "cell_type": "code",
   "execution_count": 28,
   "id": "a4f2319f",
   "metadata": {},
   "outputs": [],
   "source": [
    "# Compute population mean of registered rides\n",
    "population_mean = cleaned_data['registered'].mean()"
   ]
  },
  {
   "cell_type": "code",
   "execution_count": 29,
   "id": "3054147b",
   "metadata": {},
   "outputs": [],
   "source": [
    "# get sample of the data (summer 2011)\n",
    "\n",
    "sample = cleaned_data[(cleaned_data['season']=='summer')\\\n",
    "             & (cleaned_data['yr']==2011)].registered"
   ]
  },
  {
   "cell_type": "code",
   "execution_count": 30,
   "id": "31f9cf92",
   "metadata": {},
   "outputs": [],
   "source": [
    "# perform t-test and compute the p-value\n",
    "from scipy.stats import ttest_1samp"
   ]
  },
  {
   "cell_type": "code",
   "execution_count": 31,
   "id": "7b146ac6",
   "metadata": {},
   "outputs": [
    {
     "name": "stdout",
     "output_type": "stream",
     "text": [
      "Test Statistic : -3.4919691483786197, P-value : 0.0004887645279519505\n"
     ]
    }
   ],
   "source": [
    "test_result = ttest_1samp(sample, population_mean)\n",
    "print(f\"Test Statistic : {test_result[0]}, P-value : {test_result[1]}\")"
   ]
  },
  {
   "cell_type": "code",
   "execution_count": 32,
   "id": "096ad0f5",
   "metadata": {},
   "outputs": [],
   "source": [
    "import random\n",
    "random.seed(111)"
   ]
  },
  {
   "cell_type": "code",
   "execution_count": 33,
   "id": "7a5de754",
   "metadata": {},
   "outputs": [
    {
     "name": "stdout",
     "output_type": "stream",
     "text": [
      "Test Statistic : -0.9581622937125921, P-value : 0.3382477276949015\n"
     ]
    }
   ],
   "source": [
    "sample_unbiased = cleaned_data.registered.sample(frac=0.05)\n",
    "test_result_unbiased = ttest_1samp(sample_unbiased, population_mean)\n",
    "\n",
    "print(f\"Test Statistic : {test_result_unbiased[0]}, P-value : {test_result_unbiased[1]}\")"
   ]
  },
  {
   "cell_type": "markdown",
   "id": "22293ea7",
   "metadata": {},
   "source": [
    "### Exercise 1.04: Hypothesis Testing on Registered and Casual Rides\n",
    "#### Hypothesis Testing on Registered Rides"
   ]
  },
  {
   "cell_type": "code",
   "execution_count": 34,
   "id": "84a98342",
   "metadata": {},
   "outputs": [],
   "source": [
    "# Perform ttest\n",
    "\n",
    "from scipy.stats import ttest_ind"
   ]
  },
  {
   "cell_type": "code",
   "execution_count": 35,
   "id": "879e3b8b",
   "metadata": {},
   "outputs": [],
   "source": [
    "# Define mask, indicating if the day is weekend or work day\n",
    "\n",
    "weekend_days = ['Saturday', 'Sunday']\n",
    "weekend_mask = cleaned_data.weekday.isin(weekend_days)\n",
    "~weekend_mask\n",
    "\n",
    "# Selecte registered rides for weekend and working days\n",
    "\n",
    "weekend_data = cleaned_data.registered[weekend_mask]\n",
    "workingdays_data = cleaned_data.registered[~weekend_mask]"
   ]
  },
  {
   "cell_type": "code",
   "execution_count": 36,
   "id": "548b784a",
   "metadata": {},
   "outputs": [
    {
     "name": "stdout",
     "output_type": "stream",
     "text": [
      "Statistic value : -3.9069208771325274, p-value : 9.383374424675882e-05\n"
     ]
    }
   ],
   "source": [
    "test_res = ttest_ind(weekend_data, workingdays_data)\n",
    "print('Statistic value : {}, p-value : {}'.format(test_res[0], test_res[1]))"
   ]
  },
  {
   "cell_type": "code",
   "execution_count": null,
   "id": "c512f221",
   "metadata": {},
   "outputs": [],
   "source": [
    "plt.figure(figsize=(14, 6))\n",
    "sns.histplot(weekend_data, kde=True, label='Weekend Days', color=\"blue\")\n",
    "sns.histplot(workingdays_data, kde=True, label='Working Days', color='tomato')\n",
    "plt.xlabel('Registered Rides')\n",
    "plt.ylabel('Frequency')\n",
    "plt.title(\"Registered rides distributions\")\n",
    "plt.legend();"
   ]
  },
  {
   "cell_type": "markdown",
   "id": "64472015",
   "metadata": {},
   "source": [
    "#### Interpretation\n",
    "\n",
    "1. The statistical test value is : -3.9069208771325274 and the  p-value : 9.383374424675882e-05 < 5%. So we can reject the H_0 hypothesis and confirm that our initial confirmation is correct. \n",
    "2. There is a statistically difference between the numbers of rides performed during working days and the weekend.\n",
    "\n",
    "#### Hypothesis Testing on Casual Rides\n",
    "* H_0 : the average number of rides during working days is the same as the average number of rides during the weekend\n",
    "* H_a : a statistically significant difference in the average number of rides between the two groups"
   ]
  },
  {
   "cell_type": "code",
   "execution_count": null,
   "id": "5b0ca302",
   "metadata": {},
   "outputs": [],
   "source": [
    "weekend_data = cleaned_data.casual[weekend_mask]\n",
    "workingdays_data = cleaned_data.casual[~weekend_mask]\n",
    "test_result = ttest_ind(weekend_data, workingdays_data)\n",
    "print('Statistic value : {}, p-value : {}'.format(test_result[0], test_res[1]))"
   ]
  },
  {
   "cell_type": "code",
   "execution_count": null,
   "id": "f5404a3f",
   "metadata": {},
   "outputs": [],
   "source": [
    "plt.figure(figsize=(14, 6))\n",
    "sns.histplot(weekend_data, kde=True, label='Weekend Days', color=\"blue\")\n",
    "sns.histplot(workingdays_data, kde=True, label='Working Days', color='tomato')\n",
    "plt.xlabel('Casual Rides')\n",
    "plt.ylabel('Frequency')\n",
    "plt.title(\"Casual rides distributions\")\n",
    "plt.legend();"
   ]
  },
  {
   "cell_type": "markdown",
   "id": "863786fd",
   "metadata": {},
   "source": [
    "#### Interpretation\n",
    "\n",
    "1. The statistic test give us : Statistic value : 18.44383888876469, p-value : 9.383374424675882e-05. the pvalue is very low then 5%. that means, we can reject the null hypothesis. \n",
    "2. The casual rides behave differently over weekend days as show in the figure above."
   ]
  },
  {
   "cell_type": "markdown",
   "id": "54a6e083",
   "metadata": {},
   "source": [
    "## Conclusion partial\n",
    "\n",
    "In conclusion, we can say that there is a statistically significant difference between\n",
    "the number of rides on working days and weekend days for both casual and\n",
    "registered customers."
   ]
  },
  {
   "cell_type": "markdown",
   "id": "984bbca9",
   "metadata": {},
   "source": [
    "### <span><center style=\"text-decoration:underline\">ANALYSIS OF WEATHER RELATED FEATURES</center></span>\n",
    "    This section is about analysis of the group of features representing weather conditions. The weather features identified is : \n",
    "    - weathersit : categorical variable representing the current weather situation\n",
    "    - temp : normalized temperature in celsius\n",
    "    - atemp : the normalized feeling temperature in celcius\n",
    "    - hum : the humidity level as a percentage\n",
    "    - windspeed : the wind speed in m/s\n",
    "Our expections in this analysis is to find any relationship between rides number and the weather. Because bad weather can signicantly influence bike sharing services."
   ]
  },
  {
   "cell_type": "code",
   "execution_count": null,
   "id": "5701b13f",
   "metadata": {},
   "outputs": [],
   "source": [
    "def plot_correlations(data, col):\n",
    "    plt.figure(figsize=(15, 8))\n",
    "    # get correlations between col and registered rides\n",
    "    corr_c = np.corrcoef(x = data[col], y=data['registered'])[0, 1]\n",
    "    ax = sns.regplot(x = col, y = 'registered', data=data,\\\n",
    "                    scatter_kws={'alpha':0.05},\\\n",
    "                    label=f\"Registered rides (correlation: {corr_c:.3f})\"\n",
    "                    )\n",
    "    # get correlations between col and casual rides\n",
    "    corr_c = np.corrcoef(x = data[col], y=data['casual'])[0, 1]\n",
    "    ax = sns.regplot(x = col, y = 'casual', data=data,\\\n",
    "                    scatter_kws={'alpha':0.05},\\\n",
    "                    label=f\"Casual rides (correlation: {corr_c:.3f})\"\n",
    "                    )\n",
    "    \n",
    "    legend = ax.legend()\n",
    "    for lh in legend.legendHandles:\n",
    "        lh.set_alpha(0.5)\n",
    "    ax.set_ylabel(\"Rides\")\n",
    "    ax.set_title(f\"Correlation Between Rides And {col.capitalize()}\")\n",
    "    return ax"
   ]
  },
  {
   "cell_type": "code",
   "execution_count": null,
   "id": "3b911ff6",
   "metadata": {},
   "outputs": [],
   "source": [
    "# plt.figure(figsize=(15, 8))\n",
    "ax = plot_correlations(cleaned_data, \"temp\")\n",
    "ax = plot_correlations(cleaned_data, \"atemp\")"
   ]
  },
  {
   "cell_type": "code",
   "execution_count": null,
   "id": "c331db99",
   "metadata": {},
   "outputs": [],
   "source": [
    "ax = plot_correlations(cleaned_data, \"hum\")\n",
    "ax = plot_correlations(cleaned_data, \"windspeed\")"
   ]
  },
  {
   "cell_type": "code",
   "execution_count": null,
   "id": "75a8f461",
   "metadata": {},
   "outputs": [],
   "source": [
    "cleaned_data[['registered', 'casual', 'atemp', 'temp', 'windspeed', 'hum']].corr()"
   ]
  },
  {
   "cell_type": "markdown",
   "id": "b9d299de",
   "metadata": {},
   "source": [
    "#### Interpretation\n",
    "\n",
    "1. The higher temperatures have positive impact on the number of rides. The number of rides increase as well as the level of temperatures increase. But this correlation isn't very significative. For both temperatures variables, casual has a strong correlation compared to registered rides.\n",
    "2. There is a negative correlation between humidity and  rides. So the increase of humidity will decrease the numbers of rides. That make sense since the customers will tend not to use bike sharing service in the case of high level of humidity.\n",
    "3. We have a weak positive correlation between rides and wind speed. However, the increase of wind speed will decrease the numbers of rides."
   ]
  },
  {
   "cell_type": "markdown",
   "id": "3a6db679",
   "metadata": {},
   "source": [
    "### Evaluating the Difference between the Pearson and Spearman Correlations"
   ]
  },
  {
   "cell_type": "code",
   "execution_count": null,
   "id": "e65884ee",
   "metadata": {},
   "outputs": [],
   "source": [
    "from scipy.stats import pearsonr, spearmanr"
   ]
  },
  {
   "cell_type": "code",
   "execution_count": null,
   "id": "6e0d7f98",
   "metadata": {},
   "outputs": [],
   "source": [
    "X = np.linspace(0, 5, 100)\n",
    "y_lin = 0.5*X + 0.1*np.random.randn(100)\n",
    "y_mon = np.exp(X) + 0.1*np.random.randn(100)"
   ]
  },
  {
   "cell_type": "code",
   "execution_count": null,
   "id": "c6b33bd4",
   "metadata": {},
   "outputs": [],
   "source": [
    "corr_lin_pearson = pearsonr(X, y_lin)[0]\n",
    "corr_lin_spearman = spearmanr(X, y_lin)[0]\n",
    "corr_mon_pearson = pearsonr(X, y_mon)[0]\n",
    "corr_mon_spearman = spearmanr(X, y_mon)[0]"
   ]
  },
  {
   "cell_type": "code",
   "execution_count": null,
   "id": "8ad6bf0b",
   "metadata": {},
   "outputs": [],
   "source": [
    "# visualize variables\n",
    "fig, (ax1, ax2) = plt.subplots(1, 2, figsize=(10,5))\n",
    "ax1.scatter(X, y_lin)\n",
    "ax1.set_title(f\"Linear relationship\\n \\\n",
    "Pearson: {corr_lin_pearson:.3f}, \\\n",
    "Spearman: {corr_lin_spearman:.3f}\")\n",
    "ax2.scatter(X, y_mon)\n",
    "ax2.set_title(f\"Monotonic relationship\\n \\\n",
    "Pearson: {corr_mon_pearson:.3f}, \\\n",
    "Spearman: {corr_mon_spearman:.3f}\")"
   ]
  },
  {
   "cell_type": "code",
   "execution_count": null,
   "id": "d747703f",
   "metadata": {},
   "outputs": [],
   "source": [
    "# Defining a function for computing correlations\n",
    "\n",
    "def compute_correlations(data, col):\n",
    "    pearson_registered = pearsonr(data[col], data['registered'])[0]\n",
    "    pearson_casual = pearsonr(data[col], data['casual'])[0]\n",
    "    spearman_registered = pearsonr(data[col], data['registered'])[0]\n",
    "    spearman_casual = pearsonr(data[col], data['casual'])[0]\n",
    "    return pd.Series({'Pearson Registered':pearson_registered,\\\n",
    "              'Pearson Casual':pearson_casual,\\\n",
    "               'Spearman Registered':spearman_registered,\\\n",
    "               'Spearman Casual':spearman_casual\n",
    "              })\n",
    "\n",
    "def corr(data, columns=[]):\n",
    "    X_df = pd.DataFrame()\n",
    "    for col in columns:\n",
    "        X = compute_correlations(data, col)\n",
    "        X_df[col] = X\n",
    "    return X_df.T"
   ]
  },
  {
   "cell_type": "code",
   "execution_count": null,
   "id": "26ca2770",
   "metadata": {},
   "outputs": [],
   "source": [
    "cols = [\"temp\", \"atemp\", \"hum\", \"windspeed\", 'registered', 'casual']\n",
    "corr_df = corr(cleaned_data, cols)"
   ]
  },
  {
   "cell_type": "code",
   "execution_count": null,
   "id": "24f62189",
   "metadata": {
    "scrolled": true
   },
   "outputs": [],
   "source": [
    "corr_df"
   ]
  },
  {
   "cell_type": "code",
   "execution_count": null,
   "id": "9752e85b",
   "metadata": {},
   "outputs": [],
   "source": [
    "# Plot the correlation matrix\n",
    "corr_matrix = cleaned_data[cols].corr()\n",
    "fig = plt.figure(figsize=(10, 8))\n",
    "plt.matshow(corr_matrix, fignum=fig.number)\n",
    "plt.xticks(range(len(cols)), cols)\n",
    "plt.yticks(range(len(cols)), cols)\n",
    "plt.colorbar()\n",
    "plt.ylim([5.5, -0.5]);"
   ]
  },
  {
   "cell_type": "code",
   "execution_count": null,
   "id": "a66d444e",
   "metadata": {},
   "outputs": [],
   "source": [
    "corr_matrix[['registered', 'casual']]"
   ]
  },
  {
   "cell_type": "markdown",
   "id": "5cb257d0",
   "metadata": {},
   "source": [
    "### Partial Conclusion\n",
    "\n",
    "The section is all about analysing the correlation between the weather and rides. From the look of thing, casual customers are far keener on using bike sharing service when the temperatures is higher.  \n",
    "The previous analysis show that casual customers ride mostly during the weekend and do not rely on bike sharing service for commuting work. As opposed to registered customers whose rides have a weaker correlation with temperature. "
   ]
  },
  {
   "cell_type": "markdown",
   "id": "7c46b7e4",
   "metadata": {},
   "source": [
    "### Time Series Analysis"
   ]
  },
  {
   "cell_type": "code",
   "execution_count": null,
   "id": "bf5fdf62",
   "metadata": {},
   "outputs": [],
   "source": [
    "\"\"\"\n",
    "define function for plotting rolling statistics and ADF test for time\n",
    "series\n",
    "\"\"\"\n",
    "\n",
    "from statsmodels.tsa.stattools import adfuller"
   ]
  },
  {
   "cell_type": "code",
   "execution_count": null,
   "id": "313a5aaa",
   "metadata": {},
   "outputs": [],
   "source": [
    "def test_stationarity(ts, window = 10, **kwargs):\n",
    "    # Create dataframe for plotings\n",
    "    plot_data = pd.DataFrame(ts.copy())\n",
    "    plot_data['rolling_mean'] = ts.rolling(window).mean()\n",
    "    \n",
    "    plot_data['rolling_std'] = ts.rolling(window).std()\n",
    "    # Compute the Dicker-Fuller test\n",
    "    \n",
    "    p_val = adfuller(ts)[1]\n",
    "    ax = plot_data.plot(**kwargs)\n",
    "    ax.set_title(f\"Dickey-Fuller p-value: {p_val:.3f}\")\n",
    "    pass\n",
    "\n",
    "def adf_test(data):\n",
    "    result=adfuller(data)\n",
    "    labels = ['Test parameters', 'p-value','#Lags Used','Dataset observations']\n",
    "    print(\"====\"*10)\n",
    "    for value,label in zip(result,labels):\n",
    "        print(label+' : '+str(value) )\n",
    "    if result[1] <= 0.05:\n",
    "        print(\"Dataset is stationary\")\n",
    "    else:\n",
    "        print(\"Dataset is non-stationary \")\n",
    "    print(\"====\"*10)"
   ]
  },
  {
   "cell_type": "code",
   "execution_count": null,
   "id": "d2a9e647",
   "metadata": {},
   "outputs": [],
   "source": [
    "# Get daily registered rides\n",
    "\n",
    "daily_registered = cleaned_data[['dteday', 'registered']]\n",
    "daily_registered.set_index('dteday', inplace=True)\n",
    "daily_registered_grb = daily_registered.groupby('dteday').sum()\n",
    "daily_registered_grb.index = pd.to_datetime(daily_registered_grb.index)\n",
    "\n",
    "test_stationarity(daily_registered_grb)"
   ]
  },
  {
   "cell_type": "code",
   "execution_count": null,
   "id": "ff78be8f",
   "metadata": {},
   "outputs": [],
   "source": [
    "adf_test(daily_registered_grb)"
   ]
  },
  {
   "cell_type": "code",
   "execution_count": null,
   "id": "aaaecad7",
   "metadata": {},
   "outputs": [],
   "source": [
    "# Get daily casual rides\n",
    "\n",
    "daily_casual = cleaned_data[['dteday', 'casual']]\n",
    "daily_casual.set_index('dteday', inplace=True)\n",
    "daily_casual_grb = daily_casual.groupby('dteday').sum()\n",
    "daily_casual_grb.index = pd.to_datetime(daily_casual_grb.index)\n",
    "\n",
    "test_stationarity(daily_casual_grb)"
   ]
  },
  {
   "cell_type": "code",
   "execution_count": null,
   "id": "e205cfed",
   "metadata": {},
   "outputs": [],
   "source": [
    "adf_test(daily_casual_grb)"
   ]
  },
  {
   "cell_type": "markdown",
   "id": "b6c5b0e8",
   "metadata": {},
   "source": [
    "### Interpretation\n",
    "1. From the plotting data, we can see that neither the moving average nor the standard deviation are stationary;\n",
    "2. The Dicker-fuller test give a pvalue of 0.355 and 372 for registered and casual respectively; that means strongly the rides data are not stationary.\n",
    "3. We need to process them in order to get stationary one."
   ]
  },
  {
   "cell_type": "code",
   "execution_count": null,
   "id": "5f025aa8",
   "metadata": {},
   "outputs": [],
   "source": [
    "# Registered rides\n",
    "daily_registered_grb_ma = daily_registered_grb.rolling(10).mean()\n",
    "\n",
    "daily_registered_ma_diff = daily_registered_grb - daily_registered_grb_ma\n",
    "daily_registered_ma_diff.dropna(inplace=True)\n",
    "\n",
    "# casual rides\n",
    "\n",
    "daily_casual_grb_ma = daily_casual_grb.rolling(10).mean()\n",
    "\n",
    "daily_casual_ma_diff = daily_casual_grb - daily_casual_grb_ma\n",
    "daily_casual_ma_diff.dropna(inplace=True)"
   ]
  },
  {
   "cell_type": "code",
   "execution_count": null,
   "id": "10213225",
   "metadata": {},
   "outputs": [],
   "source": [
    "test_stationarity(daily_registered_ma_diff)"
   ]
  },
  {
   "cell_type": "code",
   "execution_count": null,
   "id": "8fa51996",
   "metadata": {},
   "outputs": [],
   "source": [
    "adf_test(daily_registered_ma_diff)"
   ]
  },
  {
   "cell_type": "code",
   "execution_count": null,
   "id": "e97fe419",
   "metadata": {},
   "outputs": [],
   "source": [
    "test_stationarity(daily_casual_ma_diff)"
   ]
  },
  {
   "cell_type": "code",
   "execution_count": null,
   "id": "fcb36a59",
   "metadata": {},
   "outputs": [],
   "source": [
    "adf_test(daily_casual_ma_diff)"
   ]
  },
  {
   "cell_type": "code",
   "execution_count": null,
   "id": "9c91ec8d",
   "metadata": {},
   "outputs": [],
   "source": [
    "daily_registered_grb_diff = daily_registered_grb - daily_registered_grb.shift()\n",
    "daily_registered_grb_diff.dropna(inplace=True)\n",
    "daily_casual_grb_diff = daily_casual_grb - daily_casual_grb.shift()\n",
    "daily_casual_grb_diff.dropna(inplace=True)"
   ]
  },
  {
   "cell_type": "code",
   "execution_count": null,
   "id": "09e84c3d",
   "metadata": {},
   "outputs": [],
   "source": [
    "test_stationarity(daily_registered_grb_diff, figsize=(10, 8))"
   ]
  },
  {
   "cell_type": "code",
   "execution_count": null,
   "id": "a669dff6",
   "metadata": {},
   "outputs": [],
   "source": [
    "adf_test(daily_registered_grb_diff)"
   ]
  },
  {
   "cell_type": "code",
   "execution_count": null,
   "id": "855239c8",
   "metadata": {},
   "outputs": [],
   "source": [
    "test_stationarity(daily_casual_grb_diff, figsize=(10, 8))"
   ]
  },
  {
   "cell_type": "code",
   "execution_count": null,
   "id": "c3e7c5e5",
   "metadata": {},
   "outputs": [],
   "source": [
    "adf_test(daily_casual_grb_diff)"
   ]
  },
  {
   "cell_type": "markdown",
   "id": "a9afa04b",
   "metadata": {},
   "source": [
    "### Time Series Decomposition\n",
    "This involves breaking the original time series into differentes components:\n",
    "* Trend component : this component represent a long-term progression of the series. A trend component occurs when there is a persistent increase or decrease or the series.\n",
    "* Seasonal component: this component represent a seasonality patterns present in the data. A seasonal component persists when the data is influenced by seasonal factors(monthly, quarterly, yearly)\n",
    "* Residual component: this component represent an irregular or noisy component. This component describes a random fluctuations in the data."
   ]
  },
  {
   "cell_type": "code",
   "execution_count": null,
   "id": "9827fc39",
   "metadata": {},
   "outputs": [],
   "source": [
    "from statsmodels.tsa.seasonal import seasonal_decompose"
   ]
  },
  {
   "cell_type": "code",
   "execution_count": null,
   "id": "ecbea1cb",
   "metadata": {},
   "outputs": [],
   "source": [
    "registered_decomposition = seasonal_decompose(daily_registered_grb)\n",
    "casual_decomposition = seasonal_decompose(daily_casual_grb)"
   ]
  },
  {
   "cell_type": "code",
   "execution_count": null,
   "id": "9a816b0c",
   "metadata": {},
   "outputs": [],
   "source": [
    "registered_plot = registered_decomposition.plot()\n",
    "registered_plot.set_size_inches(10, 8)"
   ]
  },
  {
   "cell_type": "code",
   "execution_count": null,
   "id": "9595fc42",
   "metadata": {},
   "outputs": [],
   "source": [
    "casual_plot = casual_decomposition.plot()\n",
    "casual_plot.set_size_inches(10, 8)"
   ]
  },
  {
   "cell_type": "code",
   "execution_count": null,
   "id": "eeb6f1b5",
   "metadata": {
    "scrolled": true
   },
   "outputs": [],
   "source": [
    "registered_residu = registered_decomposition.resid.dropna()\n",
    "test_stationarity(registered_residu, figsize=(10, 8))"
   ]
  },
  {
   "cell_type": "code",
   "execution_count": null,
   "id": "4b1c8de6",
   "metadata": {},
   "outputs": [],
   "source": [
    "casual_residu = casual_decomposition.resid.dropna()\n",
    "test_stationarity(casual_residu, figsize=(10, 8))"
   ]
  },
  {
   "cell_type": "markdown",
   "id": "6a739f55",
   "metadata": {},
   "source": [
    "#### Interpretation\n",
    "\n",
    "1. From the past time series analysis, the rides data was non-stationary according to visualisation and Dickey-Fuller Test.\n",
    "2. Doing some process like rolling average method allow us to get stationary data.\n",
    "3. Above all, an interresting patterns occurs in the casual rides: a rolling standard deviation exhibits a clustering effect. A periode which the standart deviation is higher and a period wich it is lower. The number of casual rides increases during summer periods and decreases during winter.\n",
    "\n",
    "### ARIMA Models"
   ]
  },
  {
   "cell_type": "code",
   "execution_count": null,
   "id": "af80c481",
   "metadata": {},
   "outputs": [],
   "source": [
    "from statsmodels.graphics.tsaplots import plot_pacf, plot_acf"
   ]
  },
  {
   "cell_type": "code",
   "execution_count": null,
   "id": "0f2f6110",
   "metadata": {},
   "outputs": [],
   "source": [
    "fig, axes = plt.subplots(3, 3, figsize=(25, 12))\n",
    "\n",
    "# Plot the original series\n",
    "axes[0, 0].plot(daily_registered_grb)\n",
    "axes[0, 0].set_title('Originales Registered Series')\n",
    "plot_acf(daily_registered_grb, ax=axes[0, 1])\n",
    "plot_pacf(daily_registered_grb, ax=axes[0, 2], method='ywm')\n",
    "\n",
    "# Plot the first order integrated series\n",
    "first_order_int = daily_registered_grb.diff().dropna()\n",
    "axes[1, 0].plot(first_order_int)\n",
    "axes[1, 0].set_title('First Order Integrated')\n",
    "plot_acf(first_order_int, ax=axes[1, 1])\n",
    "plot_pacf(first_order_int, ax=axes[1, 2], method='ywm')\n",
    "\n",
    "# Plot the second order integrated series\n",
    "# Plot the first order integrated series\n",
    "second_order_int = first_order_int.diff().dropna()\n",
    "axes[2, 0].plot(second_order_int)\n",
    "axes[2, 0].set_title('Second Order Integrated')\n",
    "plot_acf(second_order_int, ax=axes[2, 1])\n",
    "plot_pacf(second_order_int, ax=axes[2, 2], method='ywm');"
   ]
  },
  {
   "cell_type": "code",
   "execution_count": null,
   "id": "087db4e2",
   "metadata": {},
   "outputs": [],
   "source": [
    "fig, axes = plt.subplots(3, 3, figsize=(25, 12))\n",
    "\n",
    "# Plot the original series\n",
    "axes[0, 0].plot(daily_casual_grb)\n",
    "axes[0, 0].set_title('Originales Registered Series')\n",
    "plot_acf(daily_casual_grb, ax=axes[0, 1])\n",
    "plot_pacf(daily_casual_grb, ax=axes[0, 2], method='ywm')\n",
    "\n",
    "# Plot the first order integrated series\n",
    "first_order_int = daily_casual_grb.diff().dropna()\n",
    "axes[1, 0].plot(first_order_int)\n",
    "axes[1, 0].set_title('First Order Integrated')\n",
    "plot_acf(first_order_int, ax=axes[1, 1])\n",
    "plot_pacf(first_order_int, ax=axes[1, 2], method='ywm')\n",
    "\n",
    "# # Plot the second order integrated series\n",
    "# Plot the first order integrated series\n",
    "second_order_int = first_order_int.diff().dropna()\n",
    "axes[2, 0].plot(second_order_int)\n",
    "axes[2, 0].set_title('Second Order Integrated')\n",
    "plot_acf(second_order_int, ax=axes[2, 1])\n",
    "plot_pacf(second_order_int, ax=axes[2, 2], method='ywm');"
   ]
  },
  {
   "cell_type": "code",
   "execution_count": null,
   "id": "0c18ed75",
   "metadata": {},
   "outputs": [],
   "source": [
    "from pmdarima import auto_arima"
   ]
  },
  {
   "cell_type": "code",
   "execution_count": null,
   "id": "f58e1e9d",
   "metadata": {},
   "outputs": [],
   "source": [
    "model_registered = auto_arima(daily_registered_grb,\\\n",
    "                   start_p=1, start_q=1,\\\n",
    "                   max_p=3, map_q=3,\\\n",
    "                   information_criterion=\"aic\")\n",
    "print(model_registered.summary())"
   ]
  },
  {
   "cell_type": "code",
   "execution_count": null,
   "id": "829d1c20",
   "metadata": {},
   "outputs": [],
   "source": [
    "model_casual = auto_arima(daily_casual_grb,\\\n",
    "                   start_p=1, start_q=1,\\\n",
    "                   max_p=3, map_q=3,\\\n",
    "                   information_criterion=\"aic\")\n",
    "print(model_casual.summary())"
   ]
  },
  {
   "cell_type": "code",
   "execution_count": null,
   "id": "bff999f9",
   "metadata": {},
   "outputs": [],
   "source": [
    "plot_data = pd.DataFrame(daily_registered_grb)\n",
    "plot_data['predicted'] = model_registered.predict_in_sample()\n",
    "plot_data.plot(figsize=(20, 8))\n",
    "plt.ylabel(\"number of registered rides\")\n",
    "plt.title(\"Predicted vs actual number of rides\");"
   ]
  },
  {
   "cell_type": "code",
   "execution_count": null,
   "id": "9ea19184",
   "metadata": {},
   "outputs": [],
   "source": [
    "from sklearn.metrics import mean_absolute_error"
   ]
  },
  {
   "cell_type": "code",
   "execution_count": null,
   "id": "9b335d67",
   "metadata": {},
   "outputs": [],
   "source": [
    "np.sqrt(mean_absolute_error(plot_data['registered'], plot_data['predicted']))"
   ]
  },
  {
   "cell_type": "code",
   "execution_count": null,
   "id": "fbbc6cd5",
   "metadata": {},
   "outputs": [],
   "source": [
    "plot_data = pd.DataFrame(daily_casual_grb)\n",
    "plot_data['predicted'] = model_casual.predict_in_sample()\n",
    "plot_data.plot(figsize=(20, 8))\n",
    "plt.ylabel(\"number of Casual rides\")\n",
    "plt.title(\"Predicted vs actual number of rides\");"
   ]
  },
  {
   "cell_type": "code",
   "execution_count": null,
   "id": "fc0c3781",
   "metadata": {},
   "outputs": [],
   "source": [
    "np.sqrt(mean_absolute_error(plot_data['casual'], plot_data['predicted']))"
   ]
  },
  {
   "cell_type": "markdown",
   "id": "3db4ef33",
   "metadata": {},
   "source": [
    "### Activity 1.01: Investigating the Impact of Weather Conditions on Rides"
   ]
  },
  {
   "cell_type": "code",
   "execution_count": null,
   "id": "27496ba6",
   "metadata": {},
   "outputs": [],
   "source": [
    "cleaned_data.weathersit.unique()"
   ]
  },
  {
   "cell_type": "code",
   "execution_count": null,
   "id": "6af78b8b",
   "metadata": {},
   "outputs": [],
   "source": []
  },
  {
   "cell_type": "code",
   "execution_count": null,
   "id": "aa03f472",
   "metadata": {},
   "outputs": [],
   "source": [
    "def plot_wheathersit_correlations(data, col, weathersit, ax=None):\n",
    "    _data = data[data['weathersit']==weathersit]\n",
    "    \n",
    "    # get correlations between col and registered rides\n",
    "    corr_c = np.corrcoef(x = _data[col], y=_data['registered'])[0, 1]\n",
    "    sns.regplot(x = col, y = 'registered', data=_data,\\\n",
    "                    scatter_kws={'alpha':0.05},\\\n",
    "                    label=f\"Registered rides (correlation: {corr_c:.3f})\",\\\n",
    "                     ax=ax\n",
    "                    )\n",
    "    # get correlations between col and casual rides\n",
    "    corr_c = np.corrcoef(x = _data[col], y=_data['casual'])[0, 1]\n",
    "    sns.regplot(x = col, y = 'casual', data=_data,\\\n",
    "                    scatter_kws={'alpha':0.05},\\\n",
    "                    label=f\"Casual rides (correlation: {corr_c:.3f})\",\\\n",
    "                    ax = ax\n",
    "                    )\n",
    "    \n",
    "    legend = ax.legend()\n",
    "    for lh in legend.legendHandles:\n",
    "        lh.set_alpha(0.5)\n",
    "    ax.set_ylabel(\"Rides\")\n",
    "    ax.set_title(f\"\\n Correlation Between Rides And {col.capitalize()}\\n with weathersit {weathersit}\")\n",
    "#     return ax"
   ]
  },
  {
   "cell_type": "code",
   "execution_count": null,
   "id": "01ea3703",
   "metadata": {},
   "outputs": [],
   "source": [
    "cols = [\"temp\",\"atemp\",\"hum\", \"windspeed\"]\n",
    "weather_sit = list(cleaned_data['weathersit'].unique())"
   ]
  },
  {
   "cell_type": "code",
   "execution_count": null,
   "id": "6fab6923",
   "metadata": {},
   "outputs": [],
   "source": [
    "fig, axes = plt.subplots(4, 4, figsize=(20, 28))\n",
    "\n",
    "for k in range(len(weather_sit)):\n",
    "    for i in range(len(cols)):\n",
    "        plot_wheathersit_correlations(data=cleaned_data,\\\n",
    "                                  weathersit=weather_sit[k],\\\n",
    "                                  col=cols[i], ax=axes[i, k])"
   ]
  },
  {
   "cell_type": "code",
   "execution_count": null,
   "id": "6cf58532",
   "metadata": {},
   "outputs": [],
   "source": [
    "def print_personr_corr(data, col, weathersit):\n",
    "    _data = data[data[\"weathersit\"]==weathersit]\n",
    "    pearson_registered = pearsonr(_data[col], _data['registered'])\n",
    "    pearson_casual = pearsonr(_data[col], _data['casual'])\n",
    "    print('\\n','--'*10, weathersit, '--'*10)\n",
    "    print('Pearson correlation (registered, {}): corr={:.3f}, pval={:.3f}'\\\n",
    "          .format(col, pearson_registered[0], pearson_registered[1]))\n",
    "    print('Pearson correlation (casual, {}):corr={:.3f}, pval={:.3f}'\\\n",
    "          .format(col, pearson_casual[0], pearson_casual[1]))\n",
    "    return None\n",
    "    "
   ]
  },
  {
   "cell_type": "code",
   "execution_count": null,
   "id": "f20ca8a8",
   "metadata": {},
   "outputs": [],
   "source": [
    "for col in cols:\n",
    "    for ws in weather_sit:\n",
    "        print_personr_corr(cleaned_data, col, ws)"
   ]
  },
  {
   "cell_type": "code",
   "execution_count": null,
   "id": "6bc29748",
   "metadata": {},
   "outputs": [],
   "source": [
    "heavy_rain_snow  = cleaned_data[cleaned_data['weathersit']=='heavy_rain_snow']\n",
    "heavy_rain_snow"
   ]
  },
  {
   "cell_type": "code",
   "execution_count": null,
   "id": "6dbfb6b0",
   "metadata": {},
   "outputs": [],
   "source": [
    "spearmanr(heavy_rain_snow['temp'], heavy_rain_snow['registered'])"
   ]
  },
  {
   "cell_type": "markdown",
   "id": "1ad04416",
   "metadata": {},
   "source": [
    "#### Interpretation\n",
    "1. The corrélation between weather condition and rides features are not very significant.\n",
    "2. when the weathersit condition is clear, the correlation between the rides and temp, atemp, windspeed are positive, that means the increases of one of them impact the increase of the rides features both casual and regisered. But the correlation between both rides features and hum are negative;\n",
    "3. We can observe the same patterns for the others weathersit condition. But the weathersit heavy_rain_snow has a different patterns. there are not link between it and the rides features. This may be because of the number of the record;\n",
    "4. So let say that weathersit has an influence on rides features."
   ]
  }
 ],
 "metadata": {
  "kernelspec": {
   "display_name": "Python 3 (ipykernel)",
   "language": "python",
   "name": "python3"
  },
  "language_info": {
   "codemirror_mode": {
    "name": "ipython",
    "version": 3
   },
   "file_extension": ".py",
   "mimetype": "text/x-python",
   "name": "python",
   "nbconvert_exporter": "python",
   "pygments_lexer": "ipython3",
   "version": "3.10.6"
  }
 },
 "nbformat": 4,
 "nbformat_minor": 5
}
